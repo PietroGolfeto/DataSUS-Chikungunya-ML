{
 "cells": [
  {
   "cell_type": "markdown",
   "id": "212b4563",
   "metadata": {},
   "source": [
    "## Outcome prediction after Chikungunya hospitalization"
   ]
  },
  {
   "cell_type": "markdown",
   "id": "072a2939",
   "metadata": {},
   "source": [
    "#### MC853 - Unicamp\n",
    "\n",
    "- Leandro Henrique Silva Resende – 213437 \n",
    "\n",
    "- Pietro Grazzioli Golfeto – 223694 \n",
    "\n",
    "- Yvens Ian Prado Porto – 184031 "
   ]
  },
  {
   "cell_type": "markdown",
   "id": "7bf8dbd0",
   "metadata": {},
   "source": [
    "escolher uma métrica -> segunda métrica\n",
    "escolher uma coluna (feature, atributo sensível)\n",
    "p1 = calcular probabilidade do predito ser 1 dado que real é 1 (morte) e coluna alvo é 1\n",
    "p2 = calcular probabilidade do predito ser 1 dado que real é 1 (morte) e coluna alvo é 0\n",
    "calcula métrica p1 - p2 -> x\n",
    "remover coluna alvo\n",
    "retreinar o modelo (random forest com melhor hiperparâmetros da validação, só 1 modelo)\n",
    "calcular novamente p1, p2 e métrica p1 - p2\n",
    "analisar resultado, provavelmente vai baixar o desempenho e melhorar um pouco essa métrica"
   ]
  },
  {
   "cell_type": "code",
   "execution_count": 28,
   "id": "35229f1c",
   "metadata": {},
   "outputs": [],
   "source": [
    "# Required Libraries\n",
    "# We used Python 3.10.12\n",
    "import pandas as pd\n",
    "import os\n",
    "import numpy as np\n",
    "import matplotlib.pyplot as plt\n",
    "import time\n",
    "\n",
    "from imblearn.over_sampling import SMOTE\n",
    "from imblearn.under_sampling import RandomUnderSampler\n",
    "from imblearn.pipeline import Pipeline\n",
    "\n",
    "from sklearn.preprocessing import RobustScaler\n",
    "from sklearn.impute import KNNImputer\n",
    "from sklearn.model_selection import StratifiedKFold\n",
    "from sklearn.linear_model import LogisticRegression\n",
    "from sklearn.ensemble import RandomForestClassifier\n",
    "from sklearn.neighbors import KNeighborsClassifier\n",
    "from sklearn.model_selection import GridSearchCV\n",
    "from sklearn.metrics import ConfusionMatrixDisplay\n",
    "from sklearn.metrics import (\n",
    "    make_scorer, recall_score, precision_score, fbeta_score,\n",
    "    f1_score, balanced_accuracy_score, roc_auc_score,\n",
    "    average_precision_score\n",
    ")\n",
    "\n",
    "import warnings\n",
    "from sklearn.exceptions import DataConversionWarning\n",
    "warnings.filterwarnings(action='ignore', category=DataConversionWarning)"
   ]
  },
  {
   "cell_type": "code",
   "execution_count": 29,
   "id": "6f943f6a",
   "metadata": {},
   "outputs": [],
   "source": [
    "# Paths to the data (change according to your system)\n",
    "leandro_path = {\n",
    "    'X_train_path': '/home/leandro/Documentos/UNICAMP/MC853/DataSUS-Chikungunya-ML/datasets/X_train.csv',\n",
    "    'y_train_path': '/home/leandro/Documentos/UNICAMP/MC853/DataSUS-Chikungunya-ML/datasets/y_train.csv',\n",
    "    'X_test_path': '/home/leandro/Documentos/UNICAMP/MC853/DataSUS-Chikungunya-ML/datasets/X_test.csv',\n",
    "    'y_test_path': '/home/leandro/Documentos/UNICAMP/MC853/DataSUS-Chikungunya-ML/datasets/y_test.csv',\n",
    "    'train_path': '/home/leandro/Documentos/UNICAMP/MC853/DataSUS-Chikungunya-ML/datasets/train.csv',\n",
    "    'test_path': '/home/leandro/Documentos/UNICAMP/MC853/DataSUS-Chikungunya-ML/datasets/test.csv',\n",
    "}\n",
    "\n",
    "pietro_path = {\n",
    "    'X_train_path': '/home/pietro/Desktop/DataSUS-Chikungunya-ML/datasets/X_train.csv',\n",
    "    'y_train_path': '/home/pietro/Desktop/DataSUS-Chikungunya-ML/datasets/y_train.csv',\n",
    "    'X_test_path': '/home/pietro/Desktop/DataSUS-Chikungunya-ML/datasets/X_test.csv',\n",
    "    'y_test_path': '/home/pietro/Desktop/DataSUS-Chikungunya-ML/datasets/y_test.csv',\n",
    "    'train_path': '/home/pietro/Desktop/DataSUS-Chikungunya-ML/datasets/train.csv',\n",
    "    'test_path': '/home/pietro/Desktop/DataSUS-Chikungunya-ML/datasets/test.csv',\n",
    "}"
   ]
  },
  {
   "cell_type": "code",
   "execution_count": 30,
   "id": "ce9bad1b",
   "metadata": {},
   "outputs": [],
   "source": [
    "# Set the path based on the user\n",
    "if os.path.isfile(leandro_path['X_train_path']):\n",
    "    path = leandro_path\n",
    "elif os.path.isfile(pietro_path['X_train_path']):\n",
    "    path = pietro_path\n",
    "else:\n",
    "    raise Exception('Path not found. Please check the paths in the script.')\n",
    "\n",
    "# Get CSV files path (modify to match your file path)\n",
    "train_path = os.path.expanduser(path['train_path'])\n",
    "test_path = os.path.expanduser(path['test_path'])\n",
    "X_train_path = os.path.expanduser(path['X_train_path'])\n",
    "y_train_path = os.path.expanduser(path['y_train_path'])\n",
    "X_test_path = os.path.expanduser(path['X_test_path'])\n",
    "y_test_path = os.path.expanduser(path['y_test_path'])"
   ]
  },
  {
   "cell_type": "code",
   "execution_count": 31,
   "id": "698622aa",
   "metadata": {},
   "outputs": [],
   "source": [
    "train = pd.read_csv(train_path, low_memory=False)\n",
    "test = pd.read_csv(test_path, low_memory=False)\n",
    "X_train = pd.read_csv(X_train_path, low_memory=False)\n",
    "y_train = pd.read_csv(y_train_path, low_memory=False).squeeze(\"columns\")\n",
    "X_test = pd.read_csv(X_test_path, low_memory=False)\n",
    "y_test = pd.read_csv(y_test_path, low_memory=False).squeeze(\"columns\")"
   ]
  },
  {
   "cell_type": "code",
   "execution_count": 32,
   "id": "f9c6587b",
   "metadata": {},
   "outputs": [
    {
     "data": {
      "text/html": [
       "<div>\n",
       "<style scoped>\n",
       "    .dataframe tbody tr th:only-of-type {\n",
       "        vertical-align: middle;\n",
       "    }\n",
       "\n",
       "    .dataframe tbody tr th {\n",
       "        vertical-align: top;\n",
       "    }\n",
       "\n",
       "    .dataframe thead th {\n",
       "        text-align: right;\n",
       "    }\n",
       "</style>\n",
       "<table border=\"1\" class=\"dataframe\">\n",
       "  <thead>\n",
       "    <tr style=\"text-align: right;\">\n",
       "      <th></th>\n",
       "      <th>AGE</th>\n",
       "      <th>GENDER</th>\n",
       "      <th>PREGNANT</th>\n",
       "      <th>FEBRE</th>\n",
       "      <th>MIALGIA</th>\n",
       "      <th>CEFALEIA</th>\n",
       "      <th>EXANTEMA</th>\n",
       "      <th>VOMITO</th>\n",
       "      <th>NAUSEA</th>\n",
       "      <th>DOR_COSTAS</th>\n",
       "      <th>...</th>\n",
       "      <th>REGION_MIDWEST</th>\n",
       "      <th>REGION_SOUTHEAST</th>\n",
       "      <th>REGION_SOUTH</th>\n",
       "      <th>TIME_DIFF_DAYS</th>\n",
       "      <th>TIME</th>\n",
       "      <th>WHITE</th>\n",
       "      <th>BLACK</th>\n",
       "      <th>YELLOW</th>\n",
       "      <th>BROWN</th>\n",
       "      <th>INDIGENOUS</th>\n",
       "    </tr>\n",
       "  </thead>\n",
       "  <tbody>\n",
       "    <tr>\n",
       "      <th>0</th>\n",
       "      <td>10.0</td>\n",
       "      <td>0</td>\n",
       "      <td>0.0</td>\n",
       "      <td>1</td>\n",
       "      <td>1</td>\n",
       "      <td>1</td>\n",
       "      <td>1</td>\n",
       "      <td>0</td>\n",
       "      <td>1</td>\n",
       "      <td>1</td>\n",
       "      <td>...</td>\n",
       "      <td>0</td>\n",
       "      <td>0</td>\n",
       "      <td>0</td>\n",
       "      <td>1</td>\n",
       "      <td>26</td>\n",
       "      <td>0</td>\n",
       "      <td>0</td>\n",
       "      <td>0</td>\n",
       "      <td>1</td>\n",
       "      <td>0</td>\n",
       "    </tr>\n",
       "    <tr>\n",
       "      <th>1</th>\n",
       "      <td>29.0</td>\n",
       "      <td>1</td>\n",
       "      <td>0.0</td>\n",
       "      <td>1</td>\n",
       "      <td>1</td>\n",
       "      <td>1</td>\n",
       "      <td>1</td>\n",
       "      <td>0</td>\n",
       "      <td>1</td>\n",
       "      <td>1</td>\n",
       "      <td>...</td>\n",
       "      <td>0</td>\n",
       "      <td>0</td>\n",
       "      <td>0</td>\n",
       "      <td>5</td>\n",
       "      <td>25</td>\n",
       "      <td>0</td>\n",
       "      <td>0</td>\n",
       "      <td>0</td>\n",
       "      <td>1</td>\n",
       "      <td>0</td>\n",
       "    </tr>\n",
       "    <tr>\n",
       "      <th>2</th>\n",
       "      <td>11.0</td>\n",
       "      <td>1</td>\n",
       "      <td>0.0</td>\n",
       "      <td>1</td>\n",
       "      <td>1</td>\n",
       "      <td>1</td>\n",
       "      <td>0</td>\n",
       "      <td>0</td>\n",
       "      <td>0</td>\n",
       "      <td>0</td>\n",
       "      <td>...</td>\n",
       "      <td>0</td>\n",
       "      <td>0</td>\n",
       "      <td>0</td>\n",
       "      <td>2</td>\n",
       "      <td>37</td>\n",
       "      <td>0</td>\n",
       "      <td>0</td>\n",
       "      <td>0</td>\n",
       "      <td>1</td>\n",
       "      <td>0</td>\n",
       "    </tr>\n",
       "    <tr>\n",
       "      <th>3</th>\n",
       "      <td>5.0</td>\n",
       "      <td>1</td>\n",
       "      <td>0.0</td>\n",
       "      <td>1</td>\n",
       "      <td>0</td>\n",
       "      <td>1</td>\n",
       "      <td>0</td>\n",
       "      <td>0</td>\n",
       "      <td>1</td>\n",
       "      <td>0</td>\n",
       "      <td>...</td>\n",
       "      <td>0</td>\n",
       "      <td>0</td>\n",
       "      <td>0</td>\n",
       "      <td>31</td>\n",
       "      <td>38</td>\n",
       "      <td>0</td>\n",
       "      <td>0</td>\n",
       "      <td>0</td>\n",
       "      <td>1</td>\n",
       "      <td>0</td>\n",
       "    </tr>\n",
       "    <tr>\n",
       "      <th>4</th>\n",
       "      <td>11.0</td>\n",
       "      <td>1</td>\n",
       "      <td>0.0</td>\n",
       "      <td>1</td>\n",
       "      <td>1</td>\n",
       "      <td>1</td>\n",
       "      <td>0</td>\n",
       "      <td>0</td>\n",
       "      <td>0</td>\n",
       "      <td>0</td>\n",
       "      <td>...</td>\n",
       "      <td>0</td>\n",
       "      <td>0</td>\n",
       "      <td>0</td>\n",
       "      <td>3</td>\n",
       "      <td>32</td>\n",
       "      <td>0</td>\n",
       "      <td>0</td>\n",
       "      <td>0</td>\n",
       "      <td>1</td>\n",
       "      <td>0</td>\n",
       "    </tr>\n",
       "  </tbody>\n",
       "</table>\n",
       "<p>5 rows × 38 columns</p>\n",
       "</div>"
      ],
      "text/plain": [
       "    AGE  GENDER  PREGNANT  FEBRE  MIALGIA  CEFALEIA  EXANTEMA  VOMITO  NAUSEA  \\\n",
       "0  10.0       0       0.0      1        1         1         1       0       1   \n",
       "1  29.0       1       0.0      1        1         1         1       0       1   \n",
       "2  11.0       1       0.0      1        1         1         0       0       0   \n",
       "3   5.0       1       0.0      1        0         1         0       0       1   \n",
       "4  11.0       1       0.0      1        1         1         0       0       0   \n",
       "\n",
       "   DOR_COSTAS  ...  REGION_MIDWEST  REGION_SOUTHEAST  REGION_SOUTH  \\\n",
       "0           1  ...               0                 0             0   \n",
       "1           1  ...               0                 0             0   \n",
       "2           0  ...               0                 0             0   \n",
       "3           0  ...               0                 0             0   \n",
       "4           0  ...               0                 0             0   \n",
       "\n",
       "   TIME_DIFF_DAYS  TIME  WHITE  BLACK  YELLOW  BROWN  INDIGENOUS  \n",
       "0               1    26      0      0       0      1           0  \n",
       "1               5    25      0      0       0      1           0  \n",
       "2               2    37      0      0       0      1           0  \n",
       "3              31    38      0      0       0      1           0  \n",
       "4               3    32      0      0       0      1           0  \n",
       "\n",
       "[5 rows x 38 columns]"
      ]
     },
     "execution_count": 32,
     "metadata": {},
     "output_type": "execute_result"
    }
   ],
   "source": [
    "X_train.head()"
   ]
  },
  {
   "cell_type": "code",
   "execution_count": 33,
   "id": "74528375",
   "metadata": {},
   "outputs": [
    {
     "data": {
      "text/plain": [
       "Index(['AGE', 'GENDER', 'PREGNANT', 'FEBRE', 'MIALGIA', 'CEFALEIA', 'EXANTEMA',\n",
       "       'VOMITO', 'NAUSEA', 'DOR_COSTAS', 'CONJUNTVIT', 'ARTRITE', 'ARTRALGIA',\n",
       "       'PETEQUIA_N', 'LEUCOPENIA', 'LACO', 'DOR_RETRO', 'DIABETES',\n",
       "       'HEMATOLOG', 'HEPATOPAT', 'RENAL', 'HIPERTENSA', 'ACIDO_PEPT',\n",
       "       'AUTO_IMUNE', 'CONFIRMED_CASE', 'CRITERIO', 'REGION_NORTH',\n",
       "       'REGION_NORTHEAST', 'REGION_MIDWEST', 'REGION_SOUTHEAST',\n",
       "       'REGION_SOUTH', 'TIME_DIFF_DAYS', 'TIME', 'WHITE', 'BLACK', 'YELLOW',\n",
       "       'BROWN', 'INDIGENOUS'],\n",
       "      dtype='object')"
      ]
     },
     "execution_count": 33,
     "metadata": {},
     "output_type": "execute_result"
    }
   ],
   "source": [
    "X_train.columns"
   ]
  },
  {
   "cell_type": "code",
   "execution_count": 47,
   "id": "db8a1f46",
   "metadata": {},
   "outputs": [
    {
     "name": "stdout",
     "output_type": "stream",
     "text": [
      "Old age count: 3366\n",
      "Old age proportion: 15.49%\n"
     ]
    }
   ],
   "source": [
    "old = train[train['AGE'] > 60]\n",
    "print(f\"Old age count: {len(old)}\")\n",
    "print(f\"Old age proportion: {len(old) * 100 / len(train):.2f}%\")"
   ]
  },
  {
   "cell_type": "code",
   "execution_count": 48,
   "id": "e444c494",
   "metadata": {},
   "outputs": [
    {
     "name": "stdout",
     "output_type": "stream",
     "text": [
      "Woman count: 11397\n",
      "Woman proportion: 52.46%\n",
      "Man count: 10329\n",
      "Man proportion: 47.54%\n"
     ]
    }
   ],
   "source": [
    "woman = train[X_train['GENDER'] == 1]\n",
    "print(f\"Woman count: {len(woman)}\")\n",
    "print(f\"Woman proportion: {len(woman) * 100 / len(train):.2f}%\")\n",
    "\n",
    "man = train[X_train['GENDER'] == 0]\n",
    "print(f\"Man count: {len(man)}\")\n",
    "print(f\"Man proportion: {len(man) * 100 / len(train):.2f}%\")"
   ]
  },
  {
   "cell_type": "code",
   "execution_count": 50,
   "id": "9d927a7e",
   "metadata": {},
   "outputs": [
    {
     "name": "stdout",
     "output_type": "stream",
     "text": [
      "Southern region count: 8193\n",
      "Southern region proportion: 37.71%\n"
     ]
    }
   ],
   "source": [
    "southern_regions = X_train[(X_train['REGION_SOUTH'] == 1) | (X_train['REGION_SOUTHEAST'] == 1)]\n",
    "print(f\"Southern region count: {len(southern_regions)}\")\n",
    "print(f\"Southern region proportion: {len(southern_regions) * 100 / len(X_train):.2f}%\")"
   ]
  },
  {
   "cell_type": "code",
   "execution_count": 44,
   "id": "25bc1d93",
   "metadata": {},
   "outputs": [
    {
     "name": "stdout",
     "output_type": "stream",
     "text": [
      "White count: 5568\n",
      "White proportion: 25.63%\n",
      "\n",
      "Non-white count: 16158\n",
      "Non-white proportion: 74.37%\n"
     ]
    }
   ],
   "source": [
    "white = X_train[X_train['WHITE'] == 1]\n",
    "print(f\"White count: {len(white)}\")\n",
    "print(f\"White proportion: {len(white) * 100 / len(X_train):.2f}%\\n\")\n",
    "\n",
    "non_white = X_train[X_train['WHITE'] == 0]\n",
    "print(f\"Non-white count: {len(non_white)}\")\n",
    "print(f\"Non-white proportion: {len(non_white) * 100 / len(X_train):.2f}%\")"
   ]
  },
  {
   "cell_type": "code",
   "execution_count": 45,
   "id": "1d7a1582",
   "metadata": {},
   "outputs": [
    {
     "name": "stdout",
     "output_type": "stream",
     "text": [
      "White evolution count: 451\n",
      "White evolution proportion: 8.10%\n",
      "\n",
      "Non-White evolution count: 1135\n",
      "Non-White evolution proportion: 7.02%\n"
     ]
    }
   ],
   "source": [
    "white_evolution = train[(train['WHITE'] == 1) & (train['EVOLUCAO'] == 1)]\n",
    "print(f\"White evolution count: {len(white_evolution)}\")\n",
    "print(f\"White evolution proportion: {len(white_evolution) * 100 / len(white):.2f}%\\n\")\n",
    "\n",
    "non_white_evolution = train[(train['WHITE'] == 0) & (train['EVOLUCAO'] == 1)]\n",
    "print(f\"Non-White evolution count: {len(non_white_evolution)}\")\n",
    "print(f\"Non-White evolution proportion: {len(non_white_evolution) * 100 / len(non_white):.2f}%\")"
   ]
  }
 ],
 "metadata": {
  "kernelspec": {
   "display_name": "Python 3",
   "language": "python",
   "name": "python3"
  },
  "language_info": {
   "codemirror_mode": {
    "name": "ipython",
    "version": 3
   },
   "file_extension": ".py",
   "mimetype": "text/x-python",
   "name": "python",
   "nbconvert_exporter": "python",
   "pygments_lexer": "ipython3",
   "version": "3.10.12"
  }
 },
 "nbformat": 4,
 "nbformat_minor": 5
}
