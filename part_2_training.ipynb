{
 "cells": [
  {
   "cell_type": "markdown",
   "id": "212b4563",
   "metadata": {},
   "source": [
    "## Outcome prediction after Chikungunya hospitalization"
   ]
  },
  {
   "cell_type": "markdown",
   "id": "072a2939",
   "metadata": {},
   "source": [
    "#### MC853 - Unicamp\n",
    "\n",
    "- Leandro Henrique Silva Resende – 213437 \n",
    "\n",
    "- Pietro Grazzioli Golfeto – 223694 \n",
    "\n",
    "- Yvens Ian Prado Porto – 184031 "
   ]
  },
  {
   "cell_type": "code",
   "execution_count": 1,
   "id": "35229f1c",
   "metadata": {},
   "outputs": [],
   "source": [
    "# Required Libraries\n",
    "# We used Python 3.10.12\n",
    "\n",
    "# Define random state for reproducibility\n",
    "random_state = 42\n",
    "\n",
    "# Data manipulation\n",
    "import pandas as pd\n",
    "import os # Operating system dependent functionalities (like path manipulation)\n",
    "import numpy as np\n",
    "\n",
    "# Plotting\n",
    "import matplotlib.pyplot as plt\n",
    "import time # For timing operations\n",
    "from IPython.display import display # Rich DataFrame output in Jupyter environments\n",
    "\n",
    "# Imbalanced-learn library for handling imbalanced datasets\n",
    "from imblearn.over_sampling import SMOTE # Synthetic Minority Over-sampling Technique\n",
    "from imblearn.under_sampling import RandomUnderSampler # Randomly under-sample majority class\n",
    "from imblearn.pipeline import Pipeline as ImblearnPipeline # Pipeline for imblearn transformations (aliased to avoid conflict with sklearn.pipeline if used)\n",
    "\n",
    "# Scikit-learn for preprocessing, modeling, and evaluation\n",
    "from sklearn.preprocessing import RobustScaler # Scaler robust to outliers\n",
    "from sklearn.impute import KNNImputer # Imputation for completing missing values using k-Nearest Neighbors\n",
    "from sklearn.model_selection import StratifiedKFold # Cross-validator for stratified sampling\n",
    "from sklearn.linear_model import LogisticRegression # Logistic Regression model\n",
    "from sklearn.ensemble import RandomForestClassifier # Random Forest model\n",
    "from sklearn.neighbors import KNeighborsClassifier # K-Nearest Neighbors model\n",
    "from sklearn.model_selection import GridSearchCV # For hyperparameter tuning using grid search\n",
    "from sklearn.metrics import ConfusionMatrixDisplay # For visualizing confusion matrices\n",
    "\n",
    "# Scikit-learn metrics for model evaluation\n",
    "from sklearn.metrics import (\n",
    "    make_scorer, recall_score, precision_score, fbeta_score, # Scorers for classification\n",
    "    f1_score, balanced_accuracy_score, roc_auc_score, # Common classification metrics\n",
    "    average_precision_score # Metric for precision-recall curve\n",
    ")\n",
    "\n",
    "# Warnings management\n",
    "import warnings\n",
    "from sklearn.exceptions import DataConversionWarning\n",
    "warnings.filterwarnings(action='ignore', category=DataConversionWarning) # Suppress DataConversionWarning for cleaner output"
   ]
  },
  {
   "cell_type": "code",
   "execution_count": 2,
   "id": "6f943f6a",
   "metadata": {},
   "outputs": [],
   "source": [
    "# Paths to the data (change according to your system)\n",
    "# Defines dictionaries containing paths to the dataset files for different users.\n",
    "# This allows the script to be portable between different machine setups.\n",
    "\n",
    "leandro_path = {\n",
    "    'X_train_path': '/home/leandro/Documentos/UNICAMP/MC853/DataSUS-Chikungunya-ML/datasets/X_train.csv',\n",
    "    'y_train_path': '/home/leandro/Documentos/UNICAMP/MC853/DataSUS-Chikungunya-ML/datasets/y_train.csv',\n",
    "    'X_test_path': '/home/leandro/Documentos/UNICAMP/MC853/DataSUS-Chikungunya-ML/datasets/X_test.csv',\n",
    "    'y_test_path': '/home/leandro/Documentos/UNICAMP/MC853/DataSUS-Chikungunya-ML/datasets/y_test.csv',\n",
    "}\n",
    "\n",
    "pietro_path = {\n",
    "    'X_train_path': '/home/pietro/Desktop/DataSUS-Chikungunya-ML/datasets/X_train.csv',\n",
    "    'y_train_path': '/home/pietro/Desktop/DataSUS-Chikungunya-ML/datasets/y_train.csv',\n",
    "    'X_test_path': '/home/pietro/Desktop/DataSUS-Chikungunya-ML/datasets/X_test.csv',\n",
    "    'y_test_path': '/home/pietro/Desktop/DataSUS-Chikungunya-ML/datasets/y_test.csv',\n",
    "}"
   ]
  },
  {
   "cell_type": "code",
   "execution_count": null,
   "id": "ce9bad1b",
   "metadata": {},
   "outputs": [],
   "source": [
    "# Set the path based on the user\n",
    "# Checks for the existence of the dataset files based on the defined paths\n",
    "# and selects the appropriate path configuration.\n",
    "if os.path.isfile(pietro_path['X_train_path']):\n",
    "    path_config = pietro_path # Use Pietro's path configuration\n",
    "elif os.path.isfile(leandro_path['X_train_path']):\n",
    "    path_config = leandro_path # Use Leandro's path configuration\n",
    "else:\n",
    "    # If neither path configuration is valid, raise an exception.\n",
    "    raise Exception('Path not found. Please check the paths in the script.')\n",
    "\n",
    "# Get CSV files path using the selected configuration\n",
    "# os.path.expanduser expands '~' to the user's home directory.\n",
    "X_train_path = os.path.expanduser(path_config['X_train_path'])\n",
    "y_train_path = os.path.expanduser(path_config['y_train_path'])\n",
    "X_test_path = os.path.expanduser(path_config['X_test_path'])\n",
    "y_test_path = os.path.expanduser(path_config['y_test_path'])\n",
    "\n",
    "# Get the directory of the datasets for saving processed files.\n",
    "# This will be used to save the preprocessed and resampled datasets in the same location.\n",
    "base_output_dir = os.path.dirname(X_train_path)"
   ]
  },
  {
   "cell_type": "code",
   "execution_count": 4,
   "id": "698622aa",
   "metadata": {},
   "outputs": [],
   "source": [
    "# Load the datasets from CSV files into pandas DataFrames and Series.\n",
    "# `low_memory=False` can prevent type inference issues for columns with mixed types.\n",
    "X_train = pd.read_csv(X_train_path, low_memory=False) # Load training features\n",
    "y_train = pd.read_csv(y_train_path, low_memory=False).squeeze(\"columns\") # Load training labels and convert to Series\n",
    "X_test = pd.read_csv(X_test_path, low_memory=False)  # Load test features\n",
    "y_test = pd.read_csv(y_test_path, low_memory=False).squeeze(\"columns\")   # Load test labels and convert to Series"
   ]
  },
  {
   "cell_type": "code",
   "execution_count": 5,
   "id": "f9c6587b",
   "metadata": {},
   "outputs": [
    {
     "data": {
      "application/vnd.microsoft.datawrangler.viewer.v0+json": {
       "columns": [
        {
         "name": "index",
         "rawType": "int64",
         "type": "integer"
        },
        {
         "name": "AGE",
         "rawType": "float64",
         "type": "float"
        },
        {
         "name": "GENDER",
         "rawType": "int64",
         "type": "integer"
        },
        {
         "name": "PREGNANT",
         "rawType": "float64",
         "type": "float"
        },
        {
         "name": "FEBRE",
         "rawType": "int64",
         "type": "integer"
        },
        {
         "name": "MIALGIA",
         "rawType": "int64",
         "type": "integer"
        },
        {
         "name": "CEFALEIA",
         "rawType": "int64",
         "type": "integer"
        },
        {
         "name": "EXANTEMA",
         "rawType": "int64",
         "type": "integer"
        },
        {
         "name": "VOMITO",
         "rawType": "int64",
         "type": "integer"
        },
        {
         "name": "NAUSEA",
         "rawType": "int64",
         "type": "integer"
        },
        {
         "name": "DOR_COSTAS",
         "rawType": "int64",
         "type": "integer"
        },
        {
         "name": "CONJUNTVIT",
         "rawType": "int64",
         "type": "integer"
        },
        {
         "name": "ARTRITE",
         "rawType": "int64",
         "type": "integer"
        },
        {
         "name": "ARTRALGIA",
         "rawType": "int64",
         "type": "integer"
        },
        {
         "name": "PETEQUIA_N",
         "rawType": "int64",
         "type": "integer"
        },
        {
         "name": "LEUCOPENIA",
         "rawType": "int64",
         "type": "integer"
        },
        {
         "name": "LACO",
         "rawType": "int64",
         "type": "integer"
        },
        {
         "name": "DOR_RETRO",
         "rawType": "int64",
         "type": "integer"
        },
        {
         "name": "DIABETES",
         "rawType": "int64",
         "type": "integer"
        },
        {
         "name": "HEMATOLOG",
         "rawType": "int64",
         "type": "integer"
        },
        {
         "name": "HEPATOPAT",
         "rawType": "int64",
         "type": "integer"
        },
        {
         "name": "RENAL",
         "rawType": "int64",
         "type": "integer"
        },
        {
         "name": "HIPERTENSA",
         "rawType": "int64",
         "type": "integer"
        },
        {
         "name": "ACIDO_PEPT",
         "rawType": "int64",
         "type": "integer"
        },
        {
         "name": "AUTO_IMUNE",
         "rawType": "int64",
         "type": "integer"
        },
        {
         "name": "CONFIRMED_CASE",
         "rawType": "float64",
         "type": "float"
        },
        {
         "name": "CRITERIO",
         "rawType": "float64",
         "type": "float"
        },
        {
         "name": "REGION_NORTH",
         "rawType": "int64",
         "type": "integer"
        },
        {
         "name": "REGION_NORTHEAST",
         "rawType": "int64",
         "type": "integer"
        },
        {
         "name": "REGION_MIDWEST",
         "rawType": "int64",
         "type": "integer"
        },
        {
         "name": "REGION_SOUTHEAST",
         "rawType": "int64",
         "type": "integer"
        },
        {
         "name": "REGION_SOUTH",
         "rawType": "int64",
         "type": "integer"
        },
        {
         "name": "TIME_DIFF_DAYS",
         "rawType": "int64",
         "type": "integer"
        },
        {
         "name": "TIME",
         "rawType": "int64",
         "type": "integer"
        },
        {
         "name": "WHITE",
         "rawType": "int64",
         "type": "integer"
        },
        {
         "name": "BLACK",
         "rawType": "int64",
         "type": "integer"
        },
        {
         "name": "YELLOW",
         "rawType": "int64",
         "type": "integer"
        },
        {
         "name": "BROWN",
         "rawType": "int64",
         "type": "integer"
        },
        {
         "name": "INDIGENOUS",
         "rawType": "int64",
         "type": "integer"
        }
       ],
       "ref": "7ee41840-64b0-48cd-972b-8a0bbafedd19",
       "rows": [
        [
         "0",
         "10.0",
         "0",
         "0.0",
         "1",
         "1",
         "1",
         "1",
         "0",
         "1",
         "1",
         "0",
         "0",
         "1",
         "0",
         "0",
         "0",
         "1",
         "0",
         "0",
         "0",
         "0",
         "0",
         "0",
         "0",
         "1.0",
         "1.0",
         "1",
         "0",
         "0",
         "0",
         "0",
         "1",
         "26",
         "0",
         "0",
         "0",
         "1",
         "0"
        ],
        [
         "1",
         "29.0",
         "1",
         "0.0",
         "1",
         "1",
         "1",
         "1",
         "0",
         "1",
         "1",
         "0",
         "0",
         "1",
         "0",
         "0",
         "0",
         "1",
         "1",
         "0",
         "0",
         "0",
         "1",
         "0",
         "0",
         "1.0",
         "1.0",
         "1",
         "0",
         "0",
         "0",
         "0",
         "5",
         "25",
         "0",
         "0",
         "0",
         "1",
         "0"
        ],
        [
         "2",
         "11.0",
         "1",
         "0.0",
         "1",
         "1",
         "1",
         "0",
         "0",
         "0",
         "0",
         "0",
         "0",
         "0",
         "0",
         "0",
         "0",
         "0",
         "0",
         "0",
         "0",
         "0",
         "0",
         "0",
         "0",
         "1.0",
         "2.0",
         "1",
         "0",
         "0",
         "0",
         "0",
         "2",
         "37",
         "0",
         "0",
         "0",
         "1",
         "0"
        ],
        [
         "3",
         "5.0",
         "1",
         "0.0",
         "1",
         "0",
         "1",
         "0",
         "0",
         "1",
         "0",
         "1",
         "1",
         "0",
         "0",
         "0",
         "0",
         "1",
         "0",
         "0",
         "0",
         "0",
         "0",
         "0",
         "0",
         "1.0",
         "1.0",
         "1",
         "0",
         "0",
         "0",
         "0",
         "31",
         "38",
         "0",
         "0",
         "0",
         "1",
         "0"
        ],
        [
         "4",
         "11.0",
         "1",
         "0.0",
         "1",
         "1",
         "1",
         "0",
         "0",
         "0",
         "0",
         "0",
         "0",
         "1",
         "0",
         "0",
         "0",
         "0",
         "0",
         "0",
         "0",
         "0",
         "0",
         "0",
         "0",
         "1.0",
         "1.0",
         "1",
         "0",
         "0",
         "0",
         "0",
         "3",
         "32",
         "0",
         "0",
         "0",
         "1",
         "0"
        ]
       ],
       "shape": {
        "columns": 38,
        "rows": 5
       }
      },
      "text/html": [
       "<div>\n",
       "<style scoped>\n",
       "    .dataframe tbody tr th:only-of-type {\n",
       "        vertical-align: middle;\n",
       "    }\n",
       "\n",
       "    .dataframe tbody tr th {\n",
       "        vertical-align: top;\n",
       "    }\n",
       "\n",
       "    .dataframe thead th {\n",
       "        text-align: right;\n",
       "    }\n",
       "</style>\n",
       "<table border=\"1\" class=\"dataframe\">\n",
       "  <thead>\n",
       "    <tr style=\"text-align: right;\">\n",
       "      <th></th>\n",
       "      <th>AGE</th>\n",
       "      <th>GENDER</th>\n",
       "      <th>PREGNANT</th>\n",
       "      <th>FEBRE</th>\n",
       "      <th>MIALGIA</th>\n",
       "      <th>CEFALEIA</th>\n",
       "      <th>EXANTEMA</th>\n",
       "      <th>VOMITO</th>\n",
       "      <th>NAUSEA</th>\n",
       "      <th>DOR_COSTAS</th>\n",
       "      <th>...</th>\n",
       "      <th>REGION_MIDWEST</th>\n",
       "      <th>REGION_SOUTHEAST</th>\n",
       "      <th>REGION_SOUTH</th>\n",
       "      <th>TIME_DIFF_DAYS</th>\n",
       "      <th>TIME</th>\n",
       "      <th>WHITE</th>\n",
       "      <th>BLACK</th>\n",
       "      <th>YELLOW</th>\n",
       "      <th>BROWN</th>\n",
       "      <th>INDIGENOUS</th>\n",
       "    </tr>\n",
       "  </thead>\n",
       "  <tbody>\n",
       "    <tr>\n",
       "      <th>0</th>\n",
       "      <td>10.0</td>\n",
       "      <td>0</td>\n",
       "      <td>0.0</td>\n",
       "      <td>1</td>\n",
       "      <td>1</td>\n",
       "      <td>1</td>\n",
       "      <td>1</td>\n",
       "      <td>0</td>\n",
       "      <td>1</td>\n",
       "      <td>1</td>\n",
       "      <td>...</td>\n",
       "      <td>0</td>\n",
       "      <td>0</td>\n",
       "      <td>0</td>\n",
       "      <td>1</td>\n",
       "      <td>26</td>\n",
       "      <td>0</td>\n",
       "      <td>0</td>\n",
       "      <td>0</td>\n",
       "      <td>1</td>\n",
       "      <td>0</td>\n",
       "    </tr>\n",
       "    <tr>\n",
       "      <th>1</th>\n",
       "      <td>29.0</td>\n",
       "      <td>1</td>\n",
       "      <td>0.0</td>\n",
       "      <td>1</td>\n",
       "      <td>1</td>\n",
       "      <td>1</td>\n",
       "      <td>1</td>\n",
       "      <td>0</td>\n",
       "      <td>1</td>\n",
       "      <td>1</td>\n",
       "      <td>...</td>\n",
       "      <td>0</td>\n",
       "      <td>0</td>\n",
       "      <td>0</td>\n",
       "      <td>5</td>\n",
       "      <td>25</td>\n",
       "      <td>0</td>\n",
       "      <td>0</td>\n",
       "      <td>0</td>\n",
       "      <td>1</td>\n",
       "      <td>0</td>\n",
       "    </tr>\n",
       "    <tr>\n",
       "      <th>2</th>\n",
       "      <td>11.0</td>\n",
       "      <td>1</td>\n",
       "      <td>0.0</td>\n",
       "      <td>1</td>\n",
       "      <td>1</td>\n",
       "      <td>1</td>\n",
       "      <td>0</td>\n",
       "      <td>0</td>\n",
       "      <td>0</td>\n",
       "      <td>0</td>\n",
       "      <td>...</td>\n",
       "      <td>0</td>\n",
       "      <td>0</td>\n",
       "      <td>0</td>\n",
       "      <td>2</td>\n",
       "      <td>37</td>\n",
       "      <td>0</td>\n",
       "      <td>0</td>\n",
       "      <td>0</td>\n",
       "      <td>1</td>\n",
       "      <td>0</td>\n",
       "    </tr>\n",
       "    <tr>\n",
       "      <th>3</th>\n",
       "      <td>5.0</td>\n",
       "      <td>1</td>\n",
       "      <td>0.0</td>\n",
       "      <td>1</td>\n",
       "      <td>0</td>\n",
       "      <td>1</td>\n",
       "      <td>0</td>\n",
       "      <td>0</td>\n",
       "      <td>1</td>\n",
       "      <td>0</td>\n",
       "      <td>...</td>\n",
       "      <td>0</td>\n",
       "      <td>0</td>\n",
       "      <td>0</td>\n",
       "      <td>31</td>\n",
       "      <td>38</td>\n",
       "      <td>0</td>\n",
       "      <td>0</td>\n",
       "      <td>0</td>\n",
       "      <td>1</td>\n",
       "      <td>0</td>\n",
       "    </tr>\n",
       "    <tr>\n",
       "      <th>4</th>\n",
       "      <td>11.0</td>\n",
       "      <td>1</td>\n",
       "      <td>0.0</td>\n",
       "      <td>1</td>\n",
       "      <td>1</td>\n",
       "      <td>1</td>\n",
       "      <td>0</td>\n",
       "      <td>0</td>\n",
       "      <td>0</td>\n",
       "      <td>0</td>\n",
       "      <td>...</td>\n",
       "      <td>0</td>\n",
       "      <td>0</td>\n",
       "      <td>0</td>\n",
       "      <td>3</td>\n",
       "      <td>32</td>\n",
       "      <td>0</td>\n",
       "      <td>0</td>\n",
       "      <td>0</td>\n",
       "      <td>1</td>\n",
       "      <td>0</td>\n",
       "    </tr>\n",
       "  </tbody>\n",
       "</table>\n",
       "<p>5 rows × 38 columns</p>\n",
       "</div>"
      ],
      "text/plain": [
       "    AGE  GENDER  PREGNANT  FEBRE  MIALGIA  CEFALEIA  EXANTEMA  VOMITO  NAUSEA  \\\n",
       "0  10.0       0       0.0      1        1         1         1       0       1   \n",
       "1  29.0       1       0.0      1        1         1         1       0       1   \n",
       "2  11.0       1       0.0      1        1         1         0       0       0   \n",
       "3   5.0       1       0.0      1        0         1         0       0       1   \n",
       "4  11.0       1       0.0      1        1         1         0       0       0   \n",
       "\n",
       "   DOR_COSTAS  ...  REGION_MIDWEST  REGION_SOUTHEAST  REGION_SOUTH  \\\n",
       "0           1  ...               0                 0             0   \n",
       "1           1  ...               0                 0             0   \n",
       "2           0  ...               0                 0             0   \n",
       "3           0  ...               0                 0             0   \n",
       "4           0  ...               0                 0             0   \n",
       "\n",
       "   TIME_DIFF_DAYS  TIME  WHITE  BLACK  YELLOW  BROWN  INDIGENOUS  \n",
       "0               1    26      0      0       0      1           0  \n",
       "1               5    25      0      0       0      1           0  \n",
       "2               2    37      0      0       0      1           0  \n",
       "3              31    38      0      0       0      1           0  \n",
       "4               3    32      0      0       0      1           0  \n",
       "\n",
       "[5 rows x 38 columns]"
      ]
     },
     "execution_count": 5,
     "metadata": {},
     "output_type": "execute_result"
    }
   ],
   "source": [
    "# Display the first few rows of the training feature set for a quick inspection.\n",
    "X_train.head()"
   ]
  },
  {
   "cell_type": "code",
   "execution_count": 6,
   "id": "74528375",
   "metadata": {},
   "outputs": [
    {
     "data": {
      "text/plain": [
       "Index(['AGE', 'GENDER', 'PREGNANT', 'FEBRE', 'MIALGIA', 'CEFALEIA', 'EXANTEMA',\n",
       "       'VOMITO', 'NAUSEA', 'DOR_COSTAS', 'CONJUNTVIT', 'ARTRITE', 'ARTRALGIA',\n",
       "       'PETEQUIA_N', 'LEUCOPENIA', 'LACO', 'DOR_RETRO', 'DIABETES',\n",
       "       'HEMATOLOG', 'HEPATOPAT', 'RENAL', 'HIPERTENSA', 'ACIDO_PEPT',\n",
       "       'AUTO_IMUNE', 'CONFIRMED_CASE', 'CRITERIO', 'REGION_NORTH',\n",
       "       'REGION_NORTHEAST', 'REGION_MIDWEST', 'REGION_SOUTHEAST',\n",
       "       'REGION_SOUTH', 'TIME_DIFF_DAYS', 'TIME', 'WHITE', 'BLACK', 'YELLOW',\n",
       "       'BROWN', 'INDIGENOUS'],\n",
       "      dtype='object')"
      ]
     },
     "execution_count": 6,
     "metadata": {},
     "output_type": "execute_result"
    }
   ],
   "source": [
    "# Display the column names of the training feature set.\n",
    "X_train.columns"
   ]
  },
  {
   "cell_type": "code",
   "execution_count": 7,
   "id": "bc8c1912",
   "metadata": {},
   "outputs": [
    {
     "data": {
      "application/vnd.microsoft.datawrangler.viewer.v0+json": {
       "columns": [
        {
         "name": "index",
         "rawType": "int64",
         "type": "integer"
        },
        {
         "name": "AGE",
         "rawType": "float64",
         "type": "float"
        },
        {
         "name": "TIME_DIFF_DAYS",
         "rawType": "int64",
         "type": "integer"
        },
        {
         "name": "TIME",
         "rawType": "int64",
         "type": "integer"
        }
       ],
       "ref": "105bafcd-2393-4abb-8b2e-e5008ebfffa3",
       "rows": [
        [
         "0",
         "10.0",
         "1",
         "26"
        ],
        [
         "1",
         "29.0",
         "5",
         "25"
        ],
        [
         "2",
         "11.0",
         "2",
         "37"
        ],
        [
         "3",
         "5.0",
         "31",
         "38"
        ],
        [
         "4",
         "11.0",
         "3",
         "32"
        ]
       ],
       "shape": {
        "columns": 3,
        "rows": 5
       }
      },
      "text/html": [
       "<div>\n",
       "<style scoped>\n",
       "    .dataframe tbody tr th:only-of-type {\n",
       "        vertical-align: middle;\n",
       "    }\n",
       "\n",
       "    .dataframe tbody tr th {\n",
       "        vertical-align: top;\n",
       "    }\n",
       "\n",
       "    .dataframe thead th {\n",
       "        text-align: right;\n",
       "    }\n",
       "</style>\n",
       "<table border=\"1\" class=\"dataframe\">\n",
       "  <thead>\n",
       "    <tr style=\"text-align: right;\">\n",
       "      <th></th>\n",
       "      <th>AGE</th>\n",
       "      <th>TIME_DIFF_DAYS</th>\n",
       "      <th>TIME</th>\n",
       "    </tr>\n",
       "  </thead>\n",
       "  <tbody>\n",
       "    <tr>\n",
       "      <th>0</th>\n",
       "      <td>10.0</td>\n",
       "      <td>1</td>\n",
       "      <td>26</td>\n",
       "    </tr>\n",
       "    <tr>\n",
       "      <th>1</th>\n",
       "      <td>29.0</td>\n",
       "      <td>5</td>\n",
       "      <td>25</td>\n",
       "    </tr>\n",
       "    <tr>\n",
       "      <th>2</th>\n",
       "      <td>11.0</td>\n",
       "      <td>2</td>\n",
       "      <td>37</td>\n",
       "    </tr>\n",
       "    <tr>\n",
       "      <th>3</th>\n",
       "      <td>5.0</td>\n",
       "      <td>31</td>\n",
       "      <td>38</td>\n",
       "    </tr>\n",
       "    <tr>\n",
       "      <th>4</th>\n",
       "      <td>11.0</td>\n",
       "      <td>3</td>\n",
       "      <td>32</td>\n",
       "    </tr>\n",
       "  </tbody>\n",
       "</table>\n",
       "</div>"
      ],
      "text/plain": [
       "    AGE  TIME_DIFF_DAYS  TIME\n",
       "0  10.0               1    26\n",
       "1  29.0               5    25\n",
       "2  11.0               2    37\n",
       "3   5.0              31    38\n",
       "4  11.0               3    32"
      ]
     },
     "execution_count": 7,
     "metadata": {},
     "output_type": "execute_result"
    }
   ],
   "source": [
    "# Display the first few rows of selected continuous features for a quick inspection.\n",
    "X_train[['AGE', 'TIME_DIFF_DAYS', 'TIME']].head()"
   ]
  },
  {
   "cell_type": "code",
   "execution_count": 8,
   "id": "367cb46e",
   "metadata": {},
   "outputs": [],
   "source": [
    "# Preprocessing: Drop the 'CRITERIO' column.\n",
    "# This column was identified as not relevant for the model, possibly redundant or uninformative.\n",
    "X_train['CRITERIO'].value_counts() # Display value counts of 'CRITERIO' before dropping (for verification)\n",
    "X_train = X_train.drop(columns=['CRITERIO']) # Drop 'CRITERIO' from training set\n",
    "X_test = X_test.drop(columns=['CRITERIO'])   # Drop 'CRITERIO' from test set"
   ]
  },
  {
   "cell_type": "code",
   "execution_count": 9,
   "id": "986bfbf7",
   "metadata": {},
   "outputs": [],
   "source": [
    "# Define a function for imputing missing values using KNNImputer.\n",
    "def impute_missing(data_train: pd.DataFrame, data_test: pd.DataFrame, n_neighbors: int = 3) -> tuple[pd.DataFrame, pd.DataFrame]:\n",
    "    \"\"\"\n",
    "    Impute missing values using the K-nearest neighbors algorithm.\n",
    "    The imputer is fitted on the training data and then used to transform both\n",
    "    training and test data to prevent data leakage.\n",
    "\n",
    "    Parameters:\n",
    "        data_train (pd.DataFrame): Training DataFrame with potentially missing values.\n",
    "        data_test (pd.DataFrame): Test DataFrame with potentially missing values.\n",
    "        n_neighbors (int, optional): Number of neighbors to use for imputation. Defaults to 3.\n",
    "\n",
    "    Returns:\n",
    "        tuple[pd.DataFrame, pd.DataFrame]: DataFrames (train_imputed, test_imputed) \n",
    "                                           with missing values imputed.\n",
    "    \"\"\"\n",
    "    # Initialize KNNImputer with the specified number of neighbors.\n",
    "    imputer = KNNImputer(n_neighbors=n_neighbors)\n",
    "\n",
    "    # Fit the imputer on the training data and transform the training data.\n",
    "    imputed_data_train_array = imputer.fit_transform(data_train)\n",
    "    # Transform the test data using the imputer fitted on the training data.\n",
    "    imputed_data_test_array = imputer.transform(data_test)\n",
    "\n",
    "    # Convert the imputed NumPy arrays back to pandas DataFrames, preserving original columns and index.\n",
    "    imputed_df_train = pd.DataFrame(imputed_data_train_array, columns=data_train.columns, index=data_train.index)\n",
    "    imputed_df_test = pd.DataFrame(imputed_data_test_array, columns=data_test.columns, index=data_test.index)\n",
    "\n",
    "    return imputed_df_train, imputed_df_test"
   ]
  },
  {
   "cell_type": "code",
   "execution_count": 10,
   "id": "5fc69a70",
   "metadata": {},
   "outputs": [],
   "source": [
    "# Impute missing values in the training and test sets using the defined KNN imputation function.\n",
    "X_train, X_test = impute_missing(X_train, X_test, n_neighbors=3)"
   ]
  },
  {
   "cell_type": "code",
   "execution_count": 11,
   "id": "9030bb21",
   "metadata": {},
   "outputs": [],
   "source": [
    "# Define a function to remove outliers based on a threshold for a specified column.\n",
    "def remove_outliers(X: pd.DataFrame, y: pd.Series, col: str, thresh: float) -> tuple[pd.DataFrame, pd.Series]:\n",
    "    \"\"\"\n",
    "    Keep only rows where the value in X[col] is less than or equal to `thresh`.\n",
    "    Corresponding rows are also dropped from `y`. Indices are reset.\n",
    "\n",
    "    Parameters:\n",
    "        X (pd.DataFrame): Feature DataFrame.\n",
    "        y (pd.Series): Target Series.\n",
    "        col (str): The column in X to check for outliers.\n",
    "        thresh (float): The threshold value. Rows with X[col] > thresh are removed.\n",
    "\n",
    "    Returns:\n",
    "        tuple[pd.DataFrame, pd.Series]: DataFrames X and y with outliers removed.\n",
    "    \"\"\"\n",
    "    # Create a boolean mask for rows where the column value is within the threshold.\n",
    "    keep_mask = X[col] <= thresh\n",
    "    \n",
    "    # Apply the mask to filter X and y.\n",
    "    X_clean = X.loc[keep_mask].reset_index(drop=True) # drop=True prevents old index from becoming a column\n",
    "    y_clean = y.loc[keep_mask].reset_index(drop=True)\n",
    "    \n",
    "    # Print the number of removed outliers.\n",
    "    print(f\"Removed {len(X) - len(X_clean)} outliers from column '{col}' where values were > {thresh}\")\n",
    "    return X_clean, y_clean"
   ]
  },
  {
   "cell_type": "code",
   "execution_count": 12,
   "id": "b8a2e43d",
   "metadata": {},
   "outputs": [
    {
     "name": "stdout",
     "output_type": "stream",
     "text": [
      "Train set outlier removal:\n",
      "Removed 743 outliers from column 'TIME_DIFF_DAYS' where values were > 45\n",
      "\n",
      "Test set outlier removal:\n",
      "Removed 239 outliers from column 'TIME_DIFF_DAYS' where values were > 45\n"
     ]
    }
   ],
   "source": [
    "# Remove rows where 'TIME_DIFF_DAYS' > 45, as these are considered outliers.\n",
    "# This is applied to both training and test sets independently.\n",
    "print(\"Train set outlier removal:\")\n",
    "X_train, y_train = remove_outliers(X=X_train, y=y_train, col='TIME_DIFF_DAYS', thresh=45)\n",
    "\n",
    "print(\"\\nTest set outlier removal:\")\n",
    "X_test , y_test  = remove_outliers(X=X_test , y=y_test, col='TIME_DIFF_DAYS', thresh=45)"
   ]
  },
  {
   "cell_type": "code",
   "execution_count": 13,
   "id": "f971f511",
   "metadata": {},
   "outputs": [
    {
     "data": {
      "application/vnd.microsoft.datawrangler.viewer.v0+json": {
       "columns": [
        {
         "name": "index",
         "rawType": "object",
         "type": "string"
        },
        {
         "name": "AGE",
         "rawType": "float64",
         "type": "float"
        },
        {
         "name": "TIME_DIFF_DAYS",
         "rawType": "float64",
         "type": "float"
        },
        {
         "name": "TIME",
         "rawType": "float64",
         "type": "float"
        }
       ],
       "ref": "48a1a003-1916-4e9b-94e6-56b35ac90e18",
       "rows": [
        [
         "count",
         "20983.0",
         "20983.0",
         "20983.0"
        ],
        [
         "mean",
         "32.964828670828766",
         "8.174522232283277",
         "160.61497402659296"
        ],
        [
         "std",
         "23.83860521180584",
         "8.008933922254029",
         "102.7989279932754"
        ],
        [
         "min",
         "0.0",
         "0.0",
         "0.0"
        ],
        [
         "25%",
         "12.0",
         "3.0",
         "66.0"
        ],
        [
         "50%",
         "30.0",
         "6.0",
         "155.0"
        ],
        [
         "75%",
         "51.0",
         "10.0",
         "263.0"
        ],
        [
         "max",
         "119.0",
         "45.0",
         "313.0"
        ]
       ],
       "shape": {
        "columns": 3,
        "rows": 8
       }
      },
      "text/html": [
       "<div>\n",
       "<style scoped>\n",
       "    .dataframe tbody tr th:only-of-type {\n",
       "        vertical-align: middle;\n",
       "    }\n",
       "\n",
       "    .dataframe tbody tr th {\n",
       "        vertical-align: top;\n",
       "    }\n",
       "\n",
       "    .dataframe thead th {\n",
       "        text-align: right;\n",
       "    }\n",
       "</style>\n",
       "<table border=\"1\" class=\"dataframe\">\n",
       "  <thead>\n",
       "    <tr style=\"text-align: right;\">\n",
       "      <th></th>\n",
       "      <th>AGE</th>\n",
       "      <th>TIME_DIFF_DAYS</th>\n",
       "      <th>TIME</th>\n",
       "    </tr>\n",
       "  </thead>\n",
       "  <tbody>\n",
       "    <tr>\n",
       "      <th>count</th>\n",
       "      <td>20983.000000</td>\n",
       "      <td>20983.000000</td>\n",
       "      <td>20983.000000</td>\n",
       "    </tr>\n",
       "    <tr>\n",
       "      <th>mean</th>\n",
       "      <td>32.964829</td>\n",
       "      <td>8.174522</td>\n",
       "      <td>160.614974</td>\n",
       "    </tr>\n",
       "    <tr>\n",
       "      <th>std</th>\n",
       "      <td>23.838605</td>\n",
       "      <td>8.008934</td>\n",
       "      <td>102.798928</td>\n",
       "    </tr>\n",
       "    <tr>\n",
       "      <th>min</th>\n",
       "      <td>0.000000</td>\n",
       "      <td>0.000000</td>\n",
       "      <td>0.000000</td>\n",
       "    </tr>\n",
       "    <tr>\n",
       "      <th>25%</th>\n",
       "      <td>12.000000</td>\n",
       "      <td>3.000000</td>\n",
       "      <td>66.000000</td>\n",
       "    </tr>\n",
       "    <tr>\n",
       "      <th>50%</th>\n",
       "      <td>30.000000</td>\n",
       "      <td>6.000000</td>\n",
       "      <td>155.000000</td>\n",
       "    </tr>\n",
       "    <tr>\n",
       "      <th>75%</th>\n",
       "      <td>51.000000</td>\n",
       "      <td>10.000000</td>\n",
       "      <td>263.000000</td>\n",
       "    </tr>\n",
       "    <tr>\n",
       "      <th>max</th>\n",
       "      <td>119.000000</td>\n",
       "      <td>45.000000</td>\n",
       "      <td>313.000000</td>\n",
       "    </tr>\n",
       "  </tbody>\n",
       "</table>\n",
       "</div>"
      ],
      "text/plain": [
       "                AGE  TIME_DIFF_DAYS          TIME\n",
       "count  20983.000000    20983.000000  20983.000000\n",
       "mean      32.964829        8.174522    160.614974\n",
       "std       23.838605        8.008934    102.798928\n",
       "min        0.000000        0.000000      0.000000\n",
       "25%       12.000000        3.000000     66.000000\n",
       "50%       30.000000        6.000000    155.000000\n",
       "75%       51.000000       10.000000    263.000000\n",
       "max      119.000000       45.000000    313.000000"
      ]
     },
     "execution_count": 13,
     "metadata": {},
     "output_type": "execute_result"
    }
   ],
   "source": [
    "# Define the list of continuous columns to be scaled.\n",
    "continuous_cols = ['AGE', 'TIME_DIFF_DAYS', 'TIME'] \n",
    "\n",
    "# Display descriptive statistics for selected continuous features before scaling.\n",
    "# This helps to understand the distribution of these features prior to transformation.\n",
    "X_train[continuous_cols].describe()"
   ]
  },
  {
   "cell_type": "code",
   "execution_count": 14,
   "id": "b2da7046",
   "metadata": {},
   "outputs": [],
   "source": [
    "# Scale continuous numerical features using RobustScaler.\n",
    "# RobustScaler is chosen for its robustness to outliers, as it uses statistics based on percentiles (IQR).\n",
    "scaler = RobustScaler()\n",
    "\n",
    "# Fit the scaler on the training data's continuous columns and transform them.\n",
    "# It's crucial to fit the scaler ONLY on the training data to prevent data leakage.\n",
    "X_train[continuous_cols] = scaler.fit_transform(X_train[continuous_cols])\n",
    "# Apply the SAME fitted scaler to transform the test data's continuous columns.\n",
    "X_test[continuous_cols] = scaler.transform(X_test[continuous_cols])"
   ]
  },
  {
   "cell_type": "code",
   "execution_count": 15,
   "id": "c2eeb7c5",
   "metadata": {},
   "outputs": [],
   "source": [
    "# ### Save Preprocessed Data\n",
    "# At this point, `X_train`, `y_train`, `X_test`, and `y_test` have undergone all common preprocessing:\n",
    "# - Dropping irrelevant columns\n",
    "# - KNN imputation for missing values\n",
    "# - Outlier removal\n",
    "# - Robust scaling of continuous features\n",
    "# \n",
    "# These fully preprocessed datasets are now saved to disk. This allows the fairness analysis script\n",
    "# to load them directly, skipping these preprocessing steps."
   ]
  },
  {
   "cell_type": "code",
   "execution_count": 16,
   "id": "774acc81",
   "metadata": {},
   "outputs": [
    {
     "name": "stdout",
     "output_type": "stream",
     "text": [
      "Saved processed X_train to: /home/pietro/Desktop/DataSUS-Chikungunya-ML/datasets/X_train_processed.csv\n",
      "Saved processed y_train to: /home/pietro/Desktop/DataSUS-Chikungunya-ML/datasets/y_train_processed.csv\n",
      "Saved processed X_test to: /home/pietro/Desktop/DataSUS-Chikungunya-ML/datasets/X_test_processed.csv\n",
      "Saved processed y_test to: /home/pietro/Desktop/DataSUS-Chikungunya-ML/datasets/y_test_processed.csv\n"
     ]
    }
   ],
   "source": [
    "# Define full paths for saving the processed datasets.\n",
    "# They will be saved in the same directory as the original datasets.\n",
    "X_train_processed_path = os.path.join(base_output_dir, 'X_train_processed.csv')\n",
    "y_train_processed_path = os.path.join(base_output_dir, 'y_train_processed.csv')\n",
    "X_test_processed_path = os.path.join(base_output_dir, 'X_test_processed.csv')\n",
    "y_test_processed_path = os.path.join(base_output_dir, 'y_test_processed.csv')\n",
    "\n",
    "# Save the processed DataFrames and Series to CSV files.\n",
    "# `index=False` prevents writing the DataFrame index as a column in the CSV.\n",
    "X_train.to_csv(X_train_processed_path, index=False)\n",
    "# For Series, `header=True` ensures the Series name (if it exists) is written as the column header.\n",
    "y_train.to_csv(y_train_processed_path, index=False, header=True) \n",
    "X_test.to_csv(X_test_processed_path, index=False)\n",
    "y_test.to_csv(y_test_processed_path, index=False, header=True)\n",
    "\n",
    "# Print confirmation messages with the paths of the saved files.\n",
    "print(f\"Saved processed X_train to: {X_train_processed_path}\")\n",
    "print(f\"Saved processed y_train to: {y_train_processed_path}\")\n",
    "print(f\"Saved processed X_test to: {X_test_processed_path}\")\n",
    "print(f\"Saved processed y_test to: {y_test_processed_path}\")"
   ]
  },
  {
   "cell_type": "code",
   "execution_count": 17,
   "id": "b90ed267",
   "metadata": {},
   "outputs": [
    {
     "data": {
      "application/vnd.microsoft.datawrangler.viewer.v0+json": {
       "columns": [
        {
         "name": "index",
         "rawType": "object",
         "type": "string"
        },
        {
         "name": "AGE",
         "rawType": "float64",
         "type": "float"
        },
        {
         "name": "TIME_DIFF_DAYS",
         "rawType": "float64",
         "type": "float"
        },
        {
         "name": "TIME",
         "rawType": "float64",
         "type": "float"
        }
       ],
       "ref": "93e1a5ab-93dd-468e-b55d-4c54fcbd30ce",
       "rows": [
        [
         "count",
         "20983.0",
         "20983.0",
         "20983.0"
        ],
        [
         "mean",
         "0.07602124796996837",
         "0.3106460331833253",
         "0.0285024062263602"
        ],
        [
         "std",
         "0.6112462874822011",
         "1.1441334174648612",
         "0.5218219695090122"
        ],
        [
         "min",
         "-0.7692307692307693",
         "-0.8571428571428571",
         "-0.7868020304568528"
        ],
        [
         "25%",
         "-0.46153846153846156",
         "-0.42857142857142855",
         "-0.4517766497461929"
        ],
        [
         "50%",
         "0.0",
         "0.0",
         "0.0"
        ],
        [
         "75%",
         "0.5384615384615384",
         "0.5714285714285714",
         "0.5482233502538071"
        ],
        [
         "max",
         "2.282051282051282",
         "5.571428571428571",
         "0.8020304568527918"
        ]
       ],
       "shape": {
        "columns": 3,
        "rows": 8
       }
      },
      "text/html": [
       "<div>\n",
       "<style scoped>\n",
       "    .dataframe tbody tr th:only-of-type {\n",
       "        vertical-align: middle;\n",
       "    }\n",
       "\n",
       "    .dataframe tbody tr th {\n",
       "        vertical-align: top;\n",
       "    }\n",
       "\n",
       "    .dataframe thead th {\n",
       "        text-align: right;\n",
       "    }\n",
       "</style>\n",
       "<table border=\"1\" class=\"dataframe\">\n",
       "  <thead>\n",
       "    <tr style=\"text-align: right;\">\n",
       "      <th></th>\n",
       "      <th>AGE</th>\n",
       "      <th>TIME_DIFF_DAYS</th>\n",
       "      <th>TIME</th>\n",
       "    </tr>\n",
       "  </thead>\n",
       "  <tbody>\n",
       "    <tr>\n",
       "      <th>count</th>\n",
       "      <td>20983.000000</td>\n",
       "      <td>20983.000000</td>\n",
       "      <td>20983.000000</td>\n",
       "    </tr>\n",
       "    <tr>\n",
       "      <th>mean</th>\n",
       "      <td>0.076021</td>\n",
       "      <td>0.310646</td>\n",
       "      <td>0.028502</td>\n",
       "    </tr>\n",
       "    <tr>\n",
       "      <th>std</th>\n",
       "      <td>0.611246</td>\n",
       "      <td>1.144133</td>\n",
       "      <td>0.521822</td>\n",
       "    </tr>\n",
       "    <tr>\n",
       "      <th>min</th>\n",
       "      <td>-0.769231</td>\n",
       "      <td>-0.857143</td>\n",
       "      <td>-0.786802</td>\n",
       "    </tr>\n",
       "    <tr>\n",
       "      <th>25%</th>\n",
       "      <td>-0.461538</td>\n",
       "      <td>-0.428571</td>\n",
       "      <td>-0.451777</td>\n",
       "    </tr>\n",
       "    <tr>\n",
       "      <th>50%</th>\n",
       "      <td>0.000000</td>\n",
       "      <td>0.000000</td>\n",
       "      <td>0.000000</td>\n",
       "    </tr>\n",
       "    <tr>\n",
       "      <th>75%</th>\n",
       "      <td>0.538462</td>\n",
       "      <td>0.571429</td>\n",
       "      <td>0.548223</td>\n",
       "    </tr>\n",
       "    <tr>\n",
       "      <th>max</th>\n",
       "      <td>2.282051</td>\n",
       "      <td>5.571429</td>\n",
       "      <td>0.802030</td>\n",
       "    </tr>\n",
       "  </tbody>\n",
       "</table>\n",
       "</div>"
      ],
      "text/plain": [
       "                AGE  TIME_DIFF_DAYS          TIME\n",
       "count  20983.000000    20983.000000  20983.000000\n",
       "mean       0.076021        0.310646      0.028502\n",
       "std        0.611246        1.144133      0.521822\n",
       "min       -0.769231       -0.857143     -0.786802\n",
       "25%       -0.461538       -0.428571     -0.451777\n",
       "50%        0.000000        0.000000      0.000000\n",
       "75%        0.538462        0.571429      0.548223\n",
       "max        2.282051        5.571429      0.802030"
      ]
     },
     "execution_count": 17,
     "metadata": {},
     "output_type": "execute_result"
    }
   ],
   "source": [
    "# Display statistics for the scaled continuous features in the training set.\n",
    "# This shows the effect of RobustScaler (e.g., median around 0, IQR scaled).\n",
    "X_train[continuous_cols].describe()"
   ]
  },
  {
   "cell_type": "code",
   "execution_count": 18,
   "id": "f4efc375",
   "metadata": {},
   "outputs": [
    {
     "name": "stdout",
     "output_type": "stream",
     "text": [
      "Train set target distribution: \n",
      "EVOLUCAO\n",
      "0    0.928418\n",
      "1    0.071582\n",
      "Name: proportion, dtype: float64,\n",
      "\n",
      "Test set target distribution: \n",
      "EVOLUCAO\n",
      "0    0.924028\n",
      "1    0.075972\n",
      "Name: proportion, dtype: float64\n"
     ]
    }
   ],
   "source": [
    "# Check the distribution of the target variable in the training set.\n",
    "# `value_counts(normalize=True)` shows the proportion of each class.\n",
    "print(f\"Train set target distribution: \\n{y_train.value_counts(normalize=True)},\\n\")\n",
    "\n",
    "# Check the distribution of the target variable in the test set.\n",
    "print(f\"Test set target distribution: \\n{y_test.value_counts(normalize=True)}\")"
   ]
  },
  {
   "cell_type": "code",
   "execution_count": 19,
   "id": "5771f37d",
   "metadata": {},
   "outputs": [],
   "source": [
    "# Define the resampling pipeline for handling class imbalance in the training data.\n",
    "# This pipeline will first oversample the minority class using SMOTE,\n",
    "# then undersample the majority class using RandomUnderSampler.\n",
    "resample_pipe = ImblearnPipeline(steps=[ # Using aliased ImblearnPipeline\n",
    "    # SMOTE: Upsample minority class to 40% of the majority class size.\n",
    "    ('o', SMOTE(sampling_strategy=0.4, random_state=random_state)), \n",
    "    # RandomUnderSampler: Downsample majority class to have a 1:1 ratio with the (now larger) minority class.\n",
    "    ('u', RandomUnderSampler(sampling_strategy=1.0, random_state=random_state)) \n",
    "])"
   ]
  },
  {
   "cell_type": "code",
   "execution_count": 20,
   "id": "5f5cbe93",
   "metadata": {},
   "outputs": [],
   "source": [
    "# ### Apply Resampling Pipeline and Save Resampled Training Data\n",
    "# The `resample_pipe` (SMOTE + RandomUnderSampler) is now applied to the preprocessed `X_train` and `y_train`.\n",
    "# The resulting resampled training data (`X_train_resampled`, `y_train_resampled`) are saved.\n",
    "# This allows the fairness analysis script to optionally load this directly if a pre-resampled dataset (based on all features) is desired."
   ]
  },
  {
   "cell_type": "code",
   "execution_count": 21,
   "id": "20771086",
   "metadata": {},
   "outputs": [
    {
     "name": "stdout",
     "output_type": "stream",
     "text": [
      "\n",
      "Original X_train shape: (20983, 37), y_train shape: (20983,)\n",
      "Resampled X_train_resampled shape: (15584, 37), y_train_resampled shape: (15584,)\n",
      "Saved resampled X_train to: /home/pietro/Desktop/DataSUS-Chikungunya-ML/datasets/X_train_resampled.csv\n",
      "Saved resampled y_train to: /home/pietro/Desktop/DataSUS-Chikungunya-ML/datasets/y_train_resampled.csv\n"
     ]
    }
   ],
   "source": [
    "# Apply the resampling pipeline to the (preprocessed) training data.\n",
    "# X_train at this point is the version that has been imputed, outliers removed, and scaled.\n",
    "X_train_resampled, y_train_resampled = resample_pipe.fit_resample(X_train, y_train)\n",
    "\n",
    "# Define paths for saving the resampled training datasets.\n",
    "X_train_resampled_path = os.path.join(base_output_dir, 'X_train_resampled.csv')\n",
    "y_train_resampled_path = os.path.join(base_output_dir, 'y_train_resampled.csv')\n",
    "\n",
    "# Save the resampled training DataFrames and Series to CSV files.\n",
    "X_train_resampled.to_csv(X_train_resampled_path, index=False)\n",
    "# `y_train_resampled` is a NumPy array after `fit_resample`. Convert to a pandas Series for consistent saving.\n",
    "# Use the original y_train's name if available, otherwise default to 'target'.\n",
    "y_train_resampled_series = pd.Series(y_train_resampled, name=y_train.name if hasattr(y_train, 'name') and y_train.name else 'target')\n",
    "y_train_resampled_series.to_csv(y_train_resampled_path, index=False, header=True)\n",
    "\n",
    "# Print shapes before and after resampling, and confirmation of saving.\n",
    "print(f\"\\nOriginal X_train shape: {X_train.shape}, y_train shape: {y_train.shape}\")\n",
    "print(f\"Resampled X_train_resampled shape: {X_train_resampled.shape}, y_train_resampled shape: {y_train_resampled.shape}\") # y_train_resampled is an array here\n",
    "print(f\"Saved resampled X_train to: {X_train_resampled_path}\")\n",
    "print(f\"Saved resampled y_train to: {y_train_resampled_path}\")"
   ]
  },
  {
   "cell_type": "code",
   "execution_count": 22,
   "id": "65d0926d",
   "metadata": {},
   "outputs": [],
   "source": [
    "# Set up StratifiedKFold for cross-validation.\n",
    "# `n_splits=5` means 5-fold cross-validation.\n",
    "# `shuffle=True` shuffles the data before splitting.\n",
    "# `random_state` ensures reproducibility of the shuffle.\n",
    "# StratifiedKFold maintains the percentage of samples for each class in each fold.\n",
    "kf = StratifiedKFold(n_splits=5, shuffle=True, random_state=random_state)"
   ]
  },
  {
   "cell_type": "code",
   "execution_count": 23,
   "id": "d0c5d34b",
   "metadata": {},
   "outputs": [],
   "source": [
    "# Define hyperparameter grids for each model to be used in GridSearchCV.\n",
    "# These grids specify the hyperparameters and their respective values to be tested.\n",
    "param_grids = {\n",
    "    'knn': { # K-Nearest Neighbors\n",
    "         'n_neighbors': [1, 3, 5, 10], # Number of neighbors\n",
    "         'p': [1, 2], # Power parameter for Minkowski distance (1: Manhattan, 2: Euclidean)\n",
    "         'weights': ['uniform', 'distance'] # Weight function used in prediction\n",
    "    },\n",
    "    'logistic_regression': { # Logistic Regression\n",
    "         # `class_weight` handles imbalanced classes by giving different weights to classes.\n",
    "         # 'balanced' automatically adjusts weights inversely proportional to class frequencies.\n",
    "         # Dictionaries like {0: 1, 1: 2} explicitly set weights for class 0 and class 1.\n",
    "         'class_weight': ['balanced', {0: 1, 1: 2}, {0: 1, 1: 3}] \n",
    "    },\n",
    "    'random_forest': { # Random Forest\n",
    "         'n_estimators': [10, 100, 200], # Number of trees in the forest\n",
    "         'max_depth': [10, 50], # Maximum depth of the trees\n",
    "         'min_samples_split': [2, 10, 30], # Minimum number of samples required to split an internal node\n",
    "         'class_weight': ['balanced', {0: 1, 1: 2}, {0: 1, 1: 3}] # Weights for classes\n",
    "    }\n",
    "}\n"
   ]
  },
  {
   "cell_type": "code",
   "execution_count": 24,
   "id": "e959a54a",
   "metadata": {},
   "outputs": [],
   "source": [
    "# Define the base estimator models to be trained.\n",
    "# These are instantiated with default parameters or parameters ensuring reproducibility/performance.\n",
    "# `random_state` is set for reproducibility.\n",
    "# `n_jobs=-1` uses all available CPU cores for parallel processing where possible.\n",
    "base_estimators = {\n",
    "    'random_forest': RandomForestClassifier(random_state=random_state, n_jobs=-1),\n",
    "    'logistic_regression': LogisticRegression(random_state=random_state, n_jobs=-1),\n",
    "    'knn': KNeighborsClassifier(n_jobs=-1)\n",
    "}"
   ]
  },
  {
   "cell_type": "code",
   "execution_count": 25,
   "id": "c2d6d7ad",
   "metadata": {},
   "outputs": [],
   "source": [
    "# Define a dictionary of scoring metrics to be used during model evaluation.\n",
    "# This dictionary includes metrics for the positive class (1), negative class (0), and class-agnostic metrics.\n",
    "# `make_scorer` is used to create scorer objects from metric functions.\n",
    "# `zero_division=0` in precision_score means if there are no positive predictions, precision is 0.\n",
    "scoring_dict = {\n",
    "    # Class-1 (positive outcome) metrics\n",
    "    \"recall_1\"    : make_scorer(recall_score,    pos_label=1), # Sensitivity, True Positive Rate\n",
    "    \"precision_1\" : make_scorer(precision_score, pos_label=1, zero_division=0), # Positive Predictive Value\n",
    "    \"f1_1\"        : make_scorer(f1_score,        pos_label=1, zero_division=0), # Harmonic mean of precision and recall for class 1\n",
    "    \"f2_1\"        : make_scorer(fbeta_score,     beta=2, pos_label=1, zero_division=0), # F-beta score with beta=2 (weights recall more) for class 1\n",
    "\n",
    "    # Class-0 (negative outcome) metrics\n",
    "    \"recall_0\"    : make_scorer(recall_score,    pos_label=0), # Specificity (if class 0 is true negative)\n",
    "    \"precision_0\" : make_scorer(precision_score, pos_label=0, zero_division=0),\n",
    "    \"f1_0\"        : make_scorer(f1_score,        pos_label=0, zero_division=0),\n",
    "    \"f2_0\"        : make_scorer(fbeta_score,     beta=2, pos_label=0, zero_division=0),\n",
    "\n",
    "    # Class-agnostic metrics\n",
    "    \"balanced_acc\": \"balanced_accuracy\", # Balanced accuracy for imbalanced datasets\n",
    "    \"roc_auc\"     : \"roc_auc\",           # Area Under the ROC Curve\n",
    "    \"pr_auc\"      : \"average_precision\"  # Area Under the Precision-Recall Curve\n",
    "}\n",
    "\n",
    "# The main scoring metric for model optimization in GridSearchCV will be 'recall_1'.\n",
    "# This choice emphasizes minimizing false negatives for the positive class (e.g., not missing Chikungunya cases)."
   ]
  },
  {
   "cell_type": "code",
   "execution_count": 26,
   "id": "381c685f",
   "metadata": {},
   "outputs": [],
   "source": [
    "\"\"\"\n",
    "Sets up GridSearchCV objects for each base model.\n",
    "Key configurations for GridSearchCV:\n",
    "  - `estimator`: The model to tune (e.g., RandomForestClassifier).\n",
    "  - `param_grid`: The hyperparameter grid defined earlier for that specific model.\n",
    "  - `cv`: The cross-validation strategy (here, the `kf` StratifiedKFold object).\n",
    "          This ensures all models are evaluated on the exact same data splits.\n",
    "  - `n_jobs=-1`: Use all available CPU cores to speed up the grid search.\n",
    "  - `scoring`: The dictionary of metrics (`scoring_dict`) to calculate for each parameter combination.\n",
    "  - `refit='recall_1'`: The GridSearchCV will optimize for 'recall_1'.\n",
    "                        After finding the best parameters, it will refit a new model on the ENTIRE training data \n",
    "                        (which, in `evaluate_cv`, will be the resampled training data) \n",
    "                        using these best parameters. This refitted model is available via `best_estimator_`.\n",
    "                        This ensures: (i) no data leakage; (ii) every final model has seen all\n",
    "                        available training samples before we evaluate on X_test later.\n",
    "\n",
    "The result is a dictionary `algorithms`, where keys are model names and values are\n",
    "the configured GridSearchCV objects, ready for fitting.\n",
    "\"\"\"\n",
    "algorithms = {} # Initialize an empty dictionary to store GridSearchCV objects\n",
    "for alg_name in base_estimators: # Iterate through the names of base estimators\n",
    "    algorithms[alg_name] = GridSearchCV(\n",
    "        estimator  = base_estimators[alg_name], # The base model instance\n",
    "        param_grid = param_grids[alg_name],    # The hyperparameter grid for this model\n",
    "        cv         = kf,                       # The cross-validation strategy\n",
    "        n_jobs     = -1,                       # Use all CPU cores\n",
    "        scoring    = scoring_dict,             # Dictionary of metrics to evaluate\n",
    "        refit      = 'recall_1'                # Refit the best model using 'recall_1' as the criterion\n",
    "    )"
   ]
  },
  {
   "cell_type": "code",
   "execution_count": 27,
   "id": "5f4ef559",
   "metadata": {},
   "outputs": [],
   "source": [
    "# Define the main evaluation function using nested cross-validation principles.\n",
    "def evaluate_cv(X_train_eval: pd.DataFrame, y_train_eval: pd.Series, resample_pipeline: ImblearnPipeline) -> tuple[pd.DataFrame, dict]:\n",
    "    \"\"\"\n",
    "    Performs outer cross-validation for model selection and performance estimation.\n",
    "    \n",
    "    Inside each outer fold:\n",
    "      1. The training portion of the fold is resampled using `resample_pipeline` (SMOTE + Undersampling).\n",
    "      2. Inner GridSearchCV is run on this resampled training portion to find the best hyperparameters\n",
    "         for each algorithm, optimizing for 'recall_1' (but calculating all metrics in `scoring_dict`).\n",
    "      3. The best model from the inner GridSearchCV is evaluated on the held-out validation portion of the outer fold.\n",
    "\n",
    "    After the outer loop completes:\n",
    "      - Each GridSearchCV object (`gs` in `algorithms`) is refit on the *entire* `X_train_eval`, `y_train_eval`\n",
    "        (after resampling it with `resample_pipeline`) using the hyperparameters that were found to be\n",
    "        best most often or according to the `refit` strategy of GridSearchCV itself across folds.\n",
    "        The `gs.best_estimator_` will then be this final refitted model.\n",
    "\n",
    "    Parameters:\n",
    "        X_train_eval (pd.DataFrame): The full training feature set.\n",
    "        y_train_eval (pd.Series): The full training target set.\n",
    "        resample_pipeline (ImblearnPipeline): The imblearn pipeline for resampling (SMOTE + RandomUnderSampler).\n",
    "\n",
    "    Returns:\n",
    "        summary (pd.DataFrame): DataFrame summarizing mean and std of metrics across outer CV folds for each model.\n",
    "        best_params_overall (dict): Dictionary containing the best hyperparameters found for each algorithm\n",
    "                                    after the final refit on the whole (resampled) training set.\n",
    "    \"\"\"\n",
    "\n",
    "    # Record the start time for the evaluation process.\n",
    "    start_time = time.time()\n",
    "\n",
    "    # Initialize dictionaries to store scores and parameters from each fold.\n",
    "    # `fold_scores` will store lists of metric values for each algorithm across folds.\n",
    "    fold_scores = {metric_name: {alg_name: [] for alg_name in algorithms} for metric_name in scoring_dict}\n",
    "    # `best_params_all` and `best_scores_all` are for logging/debugging if needed (not directly used in final output here).\n",
    "    # best_params_all = {alg_name: [] for alg_name in algorithms}\n",
    "    # best_scores_all = {alg_name: [] for alg_name in algorithms}\n",
    "    \n",
    "    # Calculate the number of hyperparameter candidates for logging.\n",
    "    candidates = {alg_name: np.prod([len(v) for v in param_grids[alg_name].values()]) for alg_name in param_grids}\n",
    "\n",
    "    # Outer cross-validation loop. `kf.split` provides indices for train/validation splits.\n",
    "    print(\"Starting Outer Cross-Validation Loop...\")\n",
    "    for fold_idx, (train_indices, val_indices) in enumerate(kf.split(X_train_eval, y_train_eval), 1):\n",
    "        print(f\"\\n--- Outer Fold {fold_idx}/{kf.get_n_splits()} ---\")\n",
    "        # Split data into training and validation sets for the current outer fold.\n",
    "        X_train_fold, X_val_fold = X_train_eval.iloc[train_indices], X_train_eval.iloc[val_indices]\n",
    "        y_train_fold, y_val_fold = y_train_eval.iloc[train_indices], y_train_eval.iloc[val_indices]\n",
    "\n",
    "        # Resample ONLY the training part of the current fold to prevent data leakage.\n",
    "        X_train_fold_res, y_train_fold_res = resample_pipeline.fit_resample(X_train_fold, y_train_fold)\n",
    "        print(f\"Resampled training part of fold {fold_idx}: X_shape={X_train_fold_res.shape}, y_shape={y_train_fold_res.shape}\")\n",
    "\n",
    "        # Iterate through each algorithm (which is a GridSearchCV object).\n",
    "        for alg_name, gs_object in algorithms.items():\n",
    "            print(f\"  Tuning {alg_name} ({candidates[alg_name]} candidates)...\")\n",
    "            # Inner GridSearchCV: fit on the resampled training part of the current fold.\n",
    "            gs_object.fit(X_train_fold_res, y_train_fold_res)\n",
    "            \n",
    "            # Optional: Log best params and score for this fold (gs_object.best_params_, gs_object.best_score_)\n",
    "            # best_params_all[alg_name].append(gs_object.best_params_)\n",
    "            # best_scores_all[alg_name].append(gs_object.best_score_) # This is the score for 'refit' metric\n",
    "            \n",
    "            # Evaluate the best model from this inner CV (gs_object.best_estimator_) on the outer validation fold.\n",
    "            y_pred_val = gs_object.predict(X_val_fold)\n",
    "            # Get prediction probabilities if the model supports it (for AUC scores).\n",
    "            y_prob_val = gs_object.predict_proba(X_val_fold)[:, 1] if hasattr(gs_object.best_estimator_, \"predict_proba\") else None\n",
    "\n",
    "            # Define a helper function to calculate a specific metric on the validation fold.\n",
    "            def calculate_metric_on_validation(metric_key_name: str) -> float:\n",
    "                \"\"\"Computes metric specified by metric_key_name on the current outer validation fold.\"\"\"\n",
    "                # Probability-based metrics\n",
    "                if y_prob_val is not None:\n",
    "                    if metric_key_name == \"roc_auc\": return roc_auc_score(y_val_fold, y_prob_val)\n",
    "                    if metric_key_name == \"pr_auc\": return average_precision_score(y_val_fold, y_prob_val)\n",
    "                elif metric_key_name in [\"roc_auc\", \"pr_auc\"]: # Probabilities needed but not available\n",
    "                    return np.nan \n",
    "                \n",
    "                # Prediction-based metrics (class-agnostic)\n",
    "                if metric_key_name == \"balanced_acc\": return balanced_accuracy_score(y_val_fold, y_pred_val)\n",
    "                \n",
    "                # Prediction-based metrics (class-specific)\n",
    "                # Determine target label (0 or 1) and base metric name (recall, precision, etc.)\n",
    "                if not metric_key_name.endswith((\"_0\", \"_1\")):\n",
    "                    raise ValueError(f\"Unknown or misconfigured metric name: {metric_key_name}\")\n",
    "                \n",
    "                target_label = 1 if metric_key_name.endswith(\"_1\") else 0\n",
    "                base_metric_name = metric_key_name.rsplit(\"_\", 1)[0]\n",
    "\n",
    "                if base_metric_name == \"recall\":    return recall_score(y_val_fold, y_pred_val, pos_label=target_label, zero_division=0)\n",
    "                if base_metric_name == \"precision\": return precision_score(y_val_fold, y_pred_val, pos_label=target_label, zero_division=0)\n",
    "                if base_metric_name == \"f1\":        return f1_score(y_val_fold, y_pred_val, pos_label=target_label, zero_division=0)\n",
    "                if base_metric_name == \"f2\":        return fbeta_score(y_val_fold, y_pred_val, beta=2, pos_label=target_label, zero_division=0)\n",
    "                \n",
    "                raise ValueError(f\"Unhandled metric: {metric_key_name}\")\n",
    "\n",
    "            # Calculate and store all defined metrics for the current algorithm on this validation fold.\n",
    "            for metric_key in scoring_dict:\n",
    "                fold_scores[metric_key][alg_name].append(calculate_metric_on_validation(metric_key))\n",
    "\n",
    "    # Summarize results from cross-validation.\n",
    "    # Create a DataFrame showing mean and standard deviation of each metric for each algorithm.\n",
    "    metrics_summary_dict = {}\n",
    "    for metric_key in scoring_dict:\n",
    "        metrics_summary_dict[f\"{metric_key} (mean)\"] = {alg_name: np.mean(scores_list) for alg_name, scores_list in fold_scores[metric_key].items()}\n",
    "        metrics_summary_dict[f\"{metric_key} (std)\"]  = {alg_name: np.std(scores_list) for alg_name, scores_list in fold_scores[metric_key].items()}\n",
    "    summary_df = pd.DataFrame(metrics_summary_dict).T # Transpose to have metrics as rows, algorithms as columns.\n",
    "\n",
    "    # Final refit of GridSearchCV objects on the entire (resampled) training dataset.\n",
    "    # This step ensures that `gs.best_estimator_` for each algorithm is trained on all available training data,\n",
    "    # using the best hyperparameters found during the cross-validation process detailed above.\n",
    "    print(\"\\nRefitting models on the entire (resampled) training set...\")\n",
    "    X_full_train_resampled, y_full_train_resampled = resample_pipeline.fit_resample(X_train_eval, y_train_eval)\n",
    "    print(f\"Full training set resampled: X_shape={X_full_train_resampled.shape}, y_shape={y_full_train_resampled.shape}\")\n",
    "\n",
    "    for alg_name, gs_object in algorithms.items():\n",
    "        print(f\"  Refitting {alg_name}...\")\n",
    "        # GridSearchCV's `fit` method, when called after initial fitting, will use its `best_params_`\n",
    "        # (determined by the `refit` metric from the CV process) to train on the new data provided.\n",
    "        gs_object.fit(X_full_train_resampled, y_full_train_resampled)\n",
    "\n",
    "    # Store the overall best hyperparameters for each algorithm (from the final refit).\n",
    "    best_params_overall_dict = {alg_name: gs_object.best_params_ for alg_name, gs_object in algorithms.items()}        \n",
    "\n",
    "    # Calculate and print the total time taken for the evaluation.\n",
    "    end_time = time.time()\n",
    "    print(f\"\\nTotal CV and refitting time: {end_time - start_time:.2f} seconds\")\n",
    "    \n",
    "    return summary_df, best_params_overall_dict"
   ]
  },
  {
   "cell_type": "code",
   "execution_count": 28,
   "id": "56f7174e",
   "metadata": {},
   "outputs": [
    {
     "name": "stdout",
     "output_type": "stream",
     "text": [
      "Starting Outer Cross-Validation Loop...\n",
      "\n",
      "--- Outer Fold 1/5 ---\n",
      "Resampled training part of fold 1: X_shape=(12466, 37), y_shape=(12466,)\n",
      "  Tuning random_forest (54 candidates)...\n",
      "  Tuning logistic_regression (3 candidates)...\n",
      "  Tuning knn (16 candidates)...\n",
      "\n",
      "--- Outer Fold 2/5 ---\n",
      "Resampled training part of fold 2: X_shape=(12468, 37), y_shape=(12468,)\n",
      "  Tuning random_forest (54 candidates)...\n",
      "  Tuning logistic_regression (3 candidates)...\n",
      "  Tuning knn (16 candidates)...\n",
      "\n",
      "--- Outer Fold 3/5 ---\n",
      "Resampled training part of fold 3: X_shape=(12468, 37), y_shape=(12468,)\n",
      "  Tuning random_forest (54 candidates)...\n",
      "  Tuning logistic_regression (3 candidates)...\n",
      "  Tuning knn (16 candidates)...\n",
      "\n",
      "--- Outer Fold 4/5 ---\n",
      "Resampled training part of fold 4: X_shape=(12468, 37), y_shape=(12468,)\n",
      "  Tuning random_forest (54 candidates)...\n",
      "  Tuning logistic_regression (3 candidates)...\n",
      "  Tuning knn (16 candidates)...\n",
      "\n",
      "--- Outer Fold 5/5 ---\n",
      "Resampled training part of fold 5: X_shape=(12468, 37), y_shape=(12468,)\n",
      "  Tuning random_forest (54 candidates)...\n",
      "  Tuning logistic_regression (3 candidates)...\n",
      "  Tuning knn (16 candidates)...\n",
      "\n",
      "Refitting models on the entire (resampled) training set...\n",
      "Full training set resampled: X_shape=(15584, 37), y_shape=(15584,)\n",
      "  Refitting random_forest...\n",
      "  Refitting logistic_regression...\n",
      "  Refitting knn...\n",
      "\n",
      "Total CV and refitting time: 429.23 seconds\n"
     ]
    }
   ],
   "source": [
    "# Execute the cross-validation and model evaluation process.\n",
    "# Pass the preprocessed (but not globally resampled yet) X_train, y_train, and the resample_pipe.\n",
    "# evaluate_cv handles resampling internally as part of its CV and refitting logic.\n",
    "cv_summary, best_params = evaluate_cv(X_train, y_train, resample_pipe)"
   ]
  },
  {
   "cell_type": "code",
   "execution_count": 29,
   "id": "f906411c",
   "metadata": {},
   "outputs": [
    {
     "name": "stdout",
     "output_type": "stream",
     "text": [
      "\n",
      "=== Cross-validated Metrics (Mean & Std across Folds) ===\n"
     ]
    },
    {
     "data": {
      "application/vnd.microsoft.datawrangler.viewer.v0+json": {
       "columns": [
        {
         "name": "index",
         "rawType": "object",
         "type": "string"
        },
        {
         "name": "random_forest",
         "rawType": "float64",
         "type": "float"
        },
        {
         "name": "logistic_regression",
         "rawType": "float64",
         "type": "float"
        },
        {
         "name": "knn",
         "rawType": "float64",
         "type": "float"
        }
       ],
       "ref": "c472c30e-f07e-4f03-923f-8364f717641c",
       "rows": [
        [
         "recall_1 (mean)",
         "0.7769634551495017",
         "0.9141284606866001",
         "0.5312691029900332"
        ],
        [
         "recall_1 (std)",
         "0.03742099867447554",
         "0.016539535512498524",
         "0.030893291035507423"
        ],
        [
         "precision_1 (mean)",
         "0.1175305919650829",
         "0.09278578713350702",
         "0.12098106093924191"
        ],
        [
         "precision_1 (std)",
         "0.004807513836869984",
         "0.0015214084333613315",
         "0.007635763629988021"
        ],
        [
         "f1_1 (mean)",
         "0.20415993894696233",
         "0.16846836300944723",
         "0.19682626998316013"
        ],
        [
         "f1_1 (std)",
         "0.008374129207717788",
         "0.0026973988491757347",
         "0.00996141038493295"
        ],
        [
         "f2_1 (mean)",
         "0.36606345147942865",
         "0.3299472368432709",
         "0.31587161508604733"
        ],
        [
         "f2_1 (std)",
         "0.015365986077843447",
         "0.005129439087878264",
         "0.012159373376565088"
        ],
        [
         "recall_0 (mean)",
         "0.5501773596179655",
         "0.3108158015511326",
         "0.7007328993660684"
        ],
        [
         "recall_0 (std)",
         "0.012577946475969036",
         "0.011107908932935088",
         "0.0306129275793892"
        ],
        [
         "precision_0 (mean)",
         "0.9697315541164977",
         "0.9791789127000856",
         "0.9509685916866688"
        ],
        [
         "precision_0 (std)",
         "0.004834450189207896",
         "0.003681261030957385",
         "0.0022673143631513665"
        ],
        [
         "f1_0 (mean)",
         "0.7019536864488815",
         "0.4717368897132796",
         "0.8065126549842037"
        ],
        [
         "f1_0 (std)",
         "0.010098181397353165",
         "0.012816881831912909",
         "0.02042731638254475"
        ],
        [
         "f2_0 (mean)",
         "0.6022557134990922",
         "0.3599220929293338",
         "0.739471797630438"
        ],
        [
         "f2_0 (std)",
         "0.01199561575226775",
         "0.011925151187377232",
         "0.02735100334266489"
        ],
        [
         "balanced_acc (mean)",
         "0.6635704073837336",
         "0.6124721311188664",
         "0.6160010011780509"
        ],
        [
         "balanced_acc (std)",
         "0.017864540994405452",
         "0.008125326088847749",
         "0.01187079296766413"
        ],
        [
         "roc_auc (mean)",
         "0.728851660530545",
         "0.7431467838442755",
         "0.648020488032143"
        ],
        [
         "roc_auc (std)",
         "0.014918976998683154",
         "0.01592583566954961",
         "0.006487665202266623"
        ],
        [
         "pr_auc (mean)",
         "0.17992008891861447",
         "0.20681041199326144",
         "0.11289435199016302"
        ],
        [
         "pr_auc (std)",
         "0.00771905926292999",
         "0.019368433540632283",
         "0.003468046388984154"
        ]
       ],
       "shape": {
        "columns": 3,
        "rows": 22
       }
      },
      "text/html": [
       "<div>\n",
       "<style scoped>\n",
       "    .dataframe tbody tr th:only-of-type {\n",
       "        vertical-align: middle;\n",
       "    }\n",
       "\n",
       "    .dataframe tbody tr th {\n",
       "        vertical-align: top;\n",
       "    }\n",
       "\n",
       "    .dataframe thead th {\n",
       "        text-align: right;\n",
       "    }\n",
       "</style>\n",
       "<table border=\"1\" class=\"dataframe\">\n",
       "  <thead>\n",
       "    <tr style=\"text-align: right;\">\n",
       "      <th></th>\n",
       "      <th>random_forest</th>\n",
       "      <th>logistic_regression</th>\n",
       "      <th>knn</th>\n",
       "    </tr>\n",
       "  </thead>\n",
       "  <tbody>\n",
       "    <tr>\n",
       "      <th>recall_1 (mean)</th>\n",
       "      <td>0.776963</td>\n",
       "      <td>0.914128</td>\n",
       "      <td>0.531269</td>\n",
       "    </tr>\n",
       "    <tr>\n",
       "      <th>recall_1 (std)</th>\n",
       "      <td>0.037421</td>\n",
       "      <td>0.016540</td>\n",
       "      <td>0.030893</td>\n",
       "    </tr>\n",
       "    <tr>\n",
       "      <th>precision_1 (mean)</th>\n",
       "      <td>0.117531</td>\n",
       "      <td>0.092786</td>\n",
       "      <td>0.120981</td>\n",
       "    </tr>\n",
       "    <tr>\n",
       "      <th>precision_1 (std)</th>\n",
       "      <td>0.004808</td>\n",
       "      <td>0.001521</td>\n",
       "      <td>0.007636</td>\n",
       "    </tr>\n",
       "    <tr>\n",
       "      <th>f1_1 (mean)</th>\n",
       "      <td>0.204160</td>\n",
       "      <td>0.168468</td>\n",
       "      <td>0.196826</td>\n",
       "    </tr>\n",
       "    <tr>\n",
       "      <th>f1_1 (std)</th>\n",
       "      <td>0.008374</td>\n",
       "      <td>0.002697</td>\n",
       "      <td>0.009961</td>\n",
       "    </tr>\n",
       "    <tr>\n",
       "      <th>f2_1 (mean)</th>\n",
       "      <td>0.366063</td>\n",
       "      <td>0.329947</td>\n",
       "      <td>0.315872</td>\n",
       "    </tr>\n",
       "    <tr>\n",
       "      <th>f2_1 (std)</th>\n",
       "      <td>0.015366</td>\n",
       "      <td>0.005129</td>\n",
       "      <td>0.012159</td>\n",
       "    </tr>\n",
       "    <tr>\n",
       "      <th>recall_0 (mean)</th>\n",
       "      <td>0.550177</td>\n",
       "      <td>0.310816</td>\n",
       "      <td>0.700733</td>\n",
       "    </tr>\n",
       "    <tr>\n",
       "      <th>recall_0 (std)</th>\n",
       "      <td>0.012578</td>\n",
       "      <td>0.011108</td>\n",
       "      <td>0.030613</td>\n",
       "    </tr>\n",
       "    <tr>\n",
       "      <th>precision_0 (mean)</th>\n",
       "      <td>0.969732</td>\n",
       "      <td>0.979179</td>\n",
       "      <td>0.950969</td>\n",
       "    </tr>\n",
       "    <tr>\n",
       "      <th>precision_0 (std)</th>\n",
       "      <td>0.004834</td>\n",
       "      <td>0.003681</td>\n",
       "      <td>0.002267</td>\n",
       "    </tr>\n",
       "    <tr>\n",
       "      <th>f1_0 (mean)</th>\n",
       "      <td>0.701954</td>\n",
       "      <td>0.471737</td>\n",
       "      <td>0.806513</td>\n",
       "    </tr>\n",
       "    <tr>\n",
       "      <th>f1_0 (std)</th>\n",
       "      <td>0.010098</td>\n",
       "      <td>0.012817</td>\n",
       "      <td>0.020427</td>\n",
       "    </tr>\n",
       "    <tr>\n",
       "      <th>f2_0 (mean)</th>\n",
       "      <td>0.602256</td>\n",
       "      <td>0.359922</td>\n",
       "      <td>0.739472</td>\n",
       "    </tr>\n",
       "    <tr>\n",
       "      <th>f2_0 (std)</th>\n",
       "      <td>0.011996</td>\n",
       "      <td>0.011925</td>\n",
       "      <td>0.027351</td>\n",
       "    </tr>\n",
       "    <tr>\n",
       "      <th>balanced_acc (mean)</th>\n",
       "      <td>0.663570</td>\n",
       "      <td>0.612472</td>\n",
       "      <td>0.616001</td>\n",
       "    </tr>\n",
       "    <tr>\n",
       "      <th>balanced_acc (std)</th>\n",
       "      <td>0.017865</td>\n",
       "      <td>0.008125</td>\n",
       "      <td>0.011871</td>\n",
       "    </tr>\n",
       "    <tr>\n",
       "      <th>roc_auc (mean)</th>\n",
       "      <td>0.728852</td>\n",
       "      <td>0.743147</td>\n",
       "      <td>0.648020</td>\n",
       "    </tr>\n",
       "    <tr>\n",
       "      <th>roc_auc (std)</th>\n",
       "      <td>0.014919</td>\n",
       "      <td>0.015926</td>\n",
       "      <td>0.006488</td>\n",
       "    </tr>\n",
       "    <tr>\n",
       "      <th>pr_auc (mean)</th>\n",
       "      <td>0.179920</td>\n",
       "      <td>0.206810</td>\n",
       "      <td>0.112894</td>\n",
       "    </tr>\n",
       "    <tr>\n",
       "      <th>pr_auc (std)</th>\n",
       "      <td>0.007719</td>\n",
       "      <td>0.019368</td>\n",
       "      <td>0.003468</td>\n",
       "    </tr>\n",
       "  </tbody>\n",
       "</table>\n",
       "</div>"
      ],
      "text/plain": [
       "                     random_forest  logistic_regression       knn\n",
       "recall_1 (mean)           0.776963             0.914128  0.531269\n",
       "recall_1 (std)            0.037421             0.016540  0.030893\n",
       "precision_1 (mean)        0.117531             0.092786  0.120981\n",
       "precision_1 (std)         0.004808             0.001521  0.007636\n",
       "f1_1 (mean)               0.204160             0.168468  0.196826\n",
       "f1_1 (std)                0.008374             0.002697  0.009961\n",
       "f2_1 (mean)               0.366063             0.329947  0.315872\n",
       "f2_1 (std)                0.015366             0.005129  0.012159\n",
       "recall_0 (mean)           0.550177             0.310816  0.700733\n",
       "recall_0 (std)            0.012578             0.011108  0.030613\n",
       "precision_0 (mean)        0.969732             0.979179  0.950969\n",
       "precision_0 (std)         0.004834             0.003681  0.002267\n",
       "f1_0 (mean)               0.701954             0.471737  0.806513\n",
       "f1_0 (std)                0.010098             0.012817  0.020427\n",
       "f2_0 (mean)               0.602256             0.359922  0.739472\n",
       "f2_0 (std)                0.011996             0.011925  0.027351\n",
       "balanced_acc (mean)       0.663570             0.612472  0.616001\n",
       "balanced_acc (std)        0.017865             0.008125  0.011871\n",
       "roc_auc (mean)            0.728852             0.743147  0.648020\n",
       "roc_auc (std)             0.014919             0.015926  0.006488\n",
       "pr_auc (mean)             0.179920             0.206810  0.112894\n",
       "pr_auc (std)              0.007719             0.019368  0.003468"
      ]
     },
     "metadata": {},
     "output_type": "display_data"
    }
   ],
   "source": [
    "# Print the summary of cross-validated metrics.\n",
    "print(\"\\n=== Cross-validated Metrics (Mean & Std across Folds) ===\")\n",
    "display(cv_summary)"
   ]
  },
  {
   "cell_type": "code",
   "execution_count": 30,
   "id": "667192b1",
   "metadata": {},
   "outputs": [
    {
     "name": "stdout",
     "output_type": "stream",
     "text": [
      "\n",
      "=== Final Best Hyperparameters (after refit on full resampled training data) ===\n",
      "random_forest: {'class_weight': {0: 1, 1: 3}, 'max_depth': 10, 'min_samples_split': 30, 'n_estimators': 100}\n",
      "logistic_regression: {'class_weight': {0: 1, 1: 3}}\n",
      "knn: {'n_neighbors': 3, 'p': 2, 'weights': 'distance'}\n"
     ]
    }
   ],
   "source": [
    "# Print the final best hyperparameters found for each algorithm after refitting on the full training data.\n",
    "print(\"\\n=== Final Best Hyperparameters (after refit on full resampled training data) ===\")\n",
    "for alg_name, params in best_params.items():\n",
    "    print(f\"{alg_name}: {params}\")"
   ]
  },
  {
   "cell_type": "code",
   "execution_count": 31,
   "id": "f65c9f1f",
   "metadata": {},
   "outputs": [],
   "source": [
    "# Define a function to test the final models on the held-out test set.\n",
    "def test_model(fitted_algorithms: dict, X_test_data: pd.DataFrame, y_test_data: pd.Series) -> pd.DataFrame:\n",
    "    \"\"\"\n",
    "    Evaluates the final trained models (best_estimator_ from GridSearchCV) on the held-out test set.\n",
    "    Uses the same `scoring_dict` as in cross-validation.\n",
    "\n",
    "    Parameters:\n",
    "        fitted_algorithms (dict): Dictionary of fitted GridSearchCV objects (e.g., the `algorithms` dict\n",
    "                                  after `evaluate_cv` has run and refit them).\n",
    "        X_test_data (pd.DataFrame): Test feature set.\n",
    "        y_test_data (pd.Series): Test target set.\n",
    "\n",
    "    Returns:\n",
    "        pd.DataFrame: DataFrame with test scores for each model (metrics as rows, models as columns).\n",
    "    \"\"\"\n",
    "    # Prepare a dictionary to store test scores for each metric and model.\n",
    "    test_scores_dict = {metric_name: {} for metric_name in scoring_dict}\n",
    "\n",
    "    print(\"\\nEvaluating models on the Test Set...\")\n",
    "    for model_name, gs_object in fitted_algorithms.items():\n",
    "        # Get the best estimator (the model refitted on the full training data).\n",
    "        final_model = gs_object.best_estimator_\n",
    "        \n",
    "        # Make predictions on the test set.\n",
    "        y_pred_test = final_model.predict(X_test_data)\n",
    "        # Get prediction probabilities if the model supports it.\n",
    "        y_prob_test = final_model.predict_proba(X_test_data)[:, 1] if hasattr(final_model, \"predict_proba\") else None\n",
    "        print(f\"  Evaluating {model_name} on test set...\")\n",
    "\n",
    "        # Define a helper function to calculate a specific metric on the test set.\n",
    "        # (Similar to `calculate_metric_on_validation` in `evaluate_cv`)\n",
    "        def calculate_metric_on_test(metric_key_name: str) -> float:\n",
    "            \"\"\"Computes metric specified by metric_key_name on the test set.\"\"\"\n",
    "            if y_prob_test is not None:\n",
    "                if metric_key_name == \"roc_auc\": return roc_auc_score(y_test_data, y_prob_test)\n",
    "                if metric_key_name == \"pr_auc\": return average_precision_score(y_test_data, y_prob_test)\n",
    "            elif metric_key_name in [\"roc_auc\", \"pr_auc\"]:\n",
    "                return np.nan\n",
    "            \n",
    "            if metric_key_name == \"balanced_acc\": return balanced_accuracy_score(y_test_data, y_pred_test)\n",
    "            \n",
    "            if not metric_key_name.endswith((\"_0\", \"_1\")):\n",
    "                raise ValueError(f\"Unknown or misconfigured metric name: {metric_key_name}\")\n",
    "            \n",
    "            target_label = 1 if metric_key_name.endswith(\"_1\") else 0\n",
    "            base_metric_name = metric_key_name.rsplit(\"_\", 1)[0]\n",
    "\n",
    "            if base_metric_name == \"recall\":    return recall_score(y_test_data, y_pred_test, pos_label=target_label, zero_division=0)\n",
    "            if base_metric_name == \"precision\": return precision_score(y_test_data, y_pred_test, pos_label=target_label, zero_division=0)\n",
    "            if base_metric_name == \"f1\":        return f1_score(y_test_data, y_pred_test, pos_label=target_label, zero_division=0)\n",
    "            if base_metric_name == \"f2\":        return fbeta_score(y_test_data, y_pred_test, beta=2, pos_label=target_label, zero_division=0)\n",
    "            \n",
    "            raise ValueError(f\"Unhandled metric: {metric_key_name}\")\n",
    "\n",
    "        # Calculate and store all defined metrics for the current model on the test set.\n",
    "        for metric_key in scoring_dict:\n",
    "            test_scores_dict[metric_key][model_name] = calculate_metric_on_test(metric_key)\n",
    "\n",
    "    # Convert the scores dictionary to a DataFrame and transpose it.\n",
    "    return pd.DataFrame(test_scores_dict).T"
   ]
  },
  {
   "cell_type": "code",
   "execution_count": 32,
   "id": "36de08c9",
   "metadata": {},
   "outputs": [
    {
     "name": "stdout",
     "output_type": "stream",
     "text": [
      "\n",
      "Evaluating models on the Test Set...\n",
      "  Evaluating random_forest on test set...\n",
      "  Evaluating logistic_regression on test set...\n",
      "  Evaluating knn on test set...\n",
      "\n",
      "=== Test Set Performance Metrics ===\n"
     ]
    },
    {
     "data": {
      "application/vnd.microsoft.datawrangler.viewer.v0+json": {
       "columns": [
        {
         "name": "index",
         "rawType": "object",
         "type": "string"
        },
        {
         "name": "random_forest",
         "rawType": "float64",
         "type": "float"
        },
        {
         "name": "logistic_regression",
         "rawType": "float64",
         "type": "float"
        },
        {
         "name": "knn",
         "rawType": "float64",
         "type": "float"
        }
       ],
       "ref": "0a0f69d6-989a-4046-83d6-355329b7a8e5",
       "rows": [
        [
         "recall_1",
         "0.8203125",
         "0.9166666666666666",
         "0.5442708333333334"
        ],
        [
         "precision_1",
         "0.11444141689373297",
         "0.09657064471879287",
         "0.12503739156446306"
        ],
        [
         "f1_1",
         "0.20086083213773315",
         "0.1747331844130057",
         "0.20335684748236438"
        ],
        [
         "f2_1",
         "0.3672612801678909",
         "0.33970276008492567",
         "0.32579890880748247"
        ],
        [
         "recall_0",
         "0.4781072690290119",
         "0.29493630232309176",
         "0.6868643614174071"
        ],
        [
         "precision_0",
         "0.9700260642919201",
         "0.9772969137992196",
         "0.9482707655926692"
        ],
        [
         "f1_0",
         "0.640516314091072",
         "0.453125",
         "0.7966722542993729"
        ],
        [
         "f2_0",
         "0.5320720548989707",
         "0.34280665953263817",
         "0.7269431225923408"
        ],
        [
         "balanced_acc",
         "0.649209884514506",
         "0.6058014844948791",
         "0.6155675973753703"
        ],
        [
         "roc_auc",
         "0.7215505037156978",
         "0.7435238743621311",
         "0.6464921810878563"
        ],
        [
         "pr_auc",
         "0.18567137894149077",
         "0.1991914651505134",
         "0.11839640464259553"
        ]
       ],
       "shape": {
        "columns": 3,
        "rows": 11
       }
      },
      "text/html": [
       "<div>\n",
       "<style scoped>\n",
       "    .dataframe tbody tr th:only-of-type {\n",
       "        vertical-align: middle;\n",
       "    }\n",
       "\n",
       "    .dataframe tbody tr th {\n",
       "        vertical-align: top;\n",
       "    }\n",
       "\n",
       "    .dataframe thead th {\n",
       "        text-align: right;\n",
       "    }\n",
       "</style>\n",
       "<table border=\"1\" class=\"dataframe\">\n",
       "  <thead>\n",
       "    <tr style=\"text-align: right;\">\n",
       "      <th></th>\n",
       "      <th>random_forest</th>\n",
       "      <th>logistic_regression</th>\n",
       "      <th>knn</th>\n",
       "    </tr>\n",
       "  </thead>\n",
       "  <tbody>\n",
       "    <tr>\n",
       "      <th>recall_1</th>\n",
       "      <td>0.820312</td>\n",
       "      <td>0.916667</td>\n",
       "      <td>0.544271</td>\n",
       "    </tr>\n",
       "    <tr>\n",
       "      <th>precision_1</th>\n",
       "      <td>0.114441</td>\n",
       "      <td>0.096571</td>\n",
       "      <td>0.125037</td>\n",
       "    </tr>\n",
       "    <tr>\n",
       "      <th>f1_1</th>\n",
       "      <td>0.200861</td>\n",
       "      <td>0.174733</td>\n",
       "      <td>0.203357</td>\n",
       "    </tr>\n",
       "    <tr>\n",
       "      <th>f2_1</th>\n",
       "      <td>0.367261</td>\n",
       "      <td>0.339703</td>\n",
       "      <td>0.325799</td>\n",
       "    </tr>\n",
       "    <tr>\n",
       "      <th>recall_0</th>\n",
       "      <td>0.478107</td>\n",
       "      <td>0.294936</td>\n",
       "      <td>0.686864</td>\n",
       "    </tr>\n",
       "    <tr>\n",
       "      <th>precision_0</th>\n",
       "      <td>0.970026</td>\n",
       "      <td>0.977297</td>\n",
       "      <td>0.948271</td>\n",
       "    </tr>\n",
       "    <tr>\n",
       "      <th>f1_0</th>\n",
       "      <td>0.640516</td>\n",
       "      <td>0.453125</td>\n",
       "      <td>0.796672</td>\n",
       "    </tr>\n",
       "    <tr>\n",
       "      <th>f2_0</th>\n",
       "      <td>0.532072</td>\n",
       "      <td>0.342807</td>\n",
       "      <td>0.726943</td>\n",
       "    </tr>\n",
       "    <tr>\n",
       "      <th>balanced_acc</th>\n",
       "      <td>0.649210</td>\n",
       "      <td>0.605801</td>\n",
       "      <td>0.615568</td>\n",
       "    </tr>\n",
       "    <tr>\n",
       "      <th>roc_auc</th>\n",
       "      <td>0.721551</td>\n",
       "      <td>0.743524</td>\n",
       "      <td>0.646492</td>\n",
       "    </tr>\n",
       "    <tr>\n",
       "      <th>pr_auc</th>\n",
       "      <td>0.185671</td>\n",
       "      <td>0.199191</td>\n",
       "      <td>0.118396</td>\n",
       "    </tr>\n",
       "  </tbody>\n",
       "</table>\n",
       "</div>"
      ],
      "text/plain": [
       "              random_forest  logistic_regression       knn\n",
       "recall_1           0.820312             0.916667  0.544271\n",
       "precision_1        0.114441             0.096571  0.125037\n",
       "f1_1               0.200861             0.174733  0.203357\n",
       "f2_1               0.367261             0.339703  0.325799\n",
       "recall_0           0.478107             0.294936  0.686864\n",
       "precision_0        0.970026             0.977297  0.948271\n",
       "f1_0               0.640516             0.453125  0.796672\n",
       "f2_0               0.532072             0.342807  0.726943\n",
       "balanced_acc       0.649210             0.605801  0.615568\n",
       "roc_auc            0.721551             0.743524  0.646492\n",
       "pr_auc             0.185671             0.199191  0.118396"
      ]
     },
     "metadata": {},
     "output_type": "display_data"
    }
   ],
   "source": [
    "# Evaluate the final models on the preprocessed test set.\n",
    "# `algorithms` dictionary now contains GridSearchCV objects that have been refitted.\n",
    "results_test = test_model(algorithms, X_test, y_test) \n",
    "print(\"\\n=== Test Set Performance Metrics ===\")\n",
    "display(results_test)"
   ]
  },
  {
   "cell_type": "code",
   "execution_count": 33,
   "id": "22a3f6a9",
   "metadata": {},
   "outputs": [
    {
     "name": "stdout",
     "output_type": "stream",
     "text": [
      "\n",
      "=== Confusion Matrices for Test Set ===\n"
     ]
    },
    {
     "data": {
      "image/png": "[encoded data removed]",
      "text/plain": [
       "<Figure size 640x480 with 2 Axes>"
      ]
     },
     "metadata": {},
     "output_type": "display_data"
    },
    {
     "data": {
      "image/png": "[encoded data removed]",
      "text/plain": [
       "<Figure size 640x480 with 2 Axes>"
      ]
     },
     "metadata": {},
     "output_type": "display_data"
    },
    {
     "data": {
      "image/png": "[encoded data removed]",
      "text/plain": [
       "<Figure size 640x480 with 2 Axes>"
      ]
     },
     "metadata": {},
     "output_type": "display_data"
    }
   ],
   "source": [
    "# Display the confusion matrix for each algorithm on the test set.\n",
    "# A confusion matrix shows true positives, true negatives, false positives, and false negatives.\n",
    "print(\"\\n=== Confusion Matrices for Test Set ===\")\n",
    "for model_name, gs_object in algorithms.items():\n",
    "    # Get the final refitted model.\n",
    "    final_model = gs_object.best_estimator_\n",
    "    # Make predictions on the original (but preprocessed) X_test.\n",
    "    y_pred_test_cm = final_model.predict(X_test)\n",
    "    \n",
    "    # Plot the confusion matrix.\n",
    "    # `plt.cm.Blues` is a colormap.\n",
    "    fig, ax = plt.subplots() # Create figure and axes for better control if needed\n",
    "    ConfusionMatrixDisplay.from_predictions(y_test, y_pred_test_cm, labels=[0,1], colorbar=True, cmap=plt.cm.Blues, ax=ax)\n",
    "    ax.set_title(f\"Confusion Matrix: {model_name}\")\n",
    "    plt.show()"
   ]
  }
 ],
 "metadata": {
  "kernelspec": {
   "display_name": "Python 3",
   "language": "python",
   "name": "python3"
  },
  "language_info": {
   "codemirror_mode": {
    "name": "ipython",
    "version": 3
   },
   "file_extension": ".py",
   "mimetype": "text/x-python",
   "name": "python",
   "nbconvert_exporter": "python",
   "pygments_lexer": "ipython3",
   "version": "3.10.12"
  }
 },
 "nbformat": 4,
 "nbformat_minor": 5
}
